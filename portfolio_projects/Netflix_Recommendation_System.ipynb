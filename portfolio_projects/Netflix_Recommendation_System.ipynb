{
 "cells": [
  {
   "cell_type": "markdown",
   "id": "7df94045-bfd2-4bf5-8d52-beb7891cc898",
   "metadata": {},
   "source": [
    "<div style=\"text-align: center;\">\n",
    "  <h1><strong>Netflix Recommendation Systems</strong></h1>\n",
    "</div>"
   ]
  },
  {
   "cell_type": "markdown",
   "id": "38821e9a-29d9-46d0-9095-c75b1bb3e92a",
   "metadata": {},
   "source": [
    "<div style=\"text-align: center;\">\n",
    "  <img src=\"https://images.ctfassets.net/y2ske730sjqp/1aONibCke6niZhgPxuiilC/2c401b05a07288746ddf3bd3943fbc76/BrandAssets_Logos_01-Wordmark.jpg?w=940\" alt=\"My centered image\" width=\"700\" height=\"400\"/>\n",
    "</div>"
   ]
  },
  {
   "cell_type": "markdown",
   "id": "e7472c04-cf98-4952-8e69-0f0b3d7ec0d7",
   "metadata": {},
   "source": [
    "### **Context**\n",
    "\n",
    "With the advent of technology, societies have become more efficient with their lives. But at the same time, individual human lives have become much more fast-paced and distracted by leaving little time to explore artistic pursuits. Also, technology has made significant advancements in the ability to coexist with art and general entertainment. It has made it easier for humans with a shortage of time to find and consume good content. Therefore, one of the key challenges for the companies is to be able to figure out what kind of content their customers are most likely to consume. Almost every internet-based company's revenue relies on the time consumers spend on their platforms. These companies need to be able to figure out what kind of content is needed to increase the time spent by customers on their platform and make their experience better.\n",
    "Netflix is one such streaming service provider that has got a huge market base across the world. It has grown significantly because of its ability to recommend the ‘best’ next movie to every customer based on the huge preference database they have gathered over time, like millions of customers and thousands of movies. This is done by using smart recommendation systems that can recommend movies based on the users’ ratings.\n",
    "\n",
    "### **Objective**\n",
    "\n",
    "As a Data Scientist, our objective is to recommend movies by building a recommendation system to propose the top 10 movies for a user based on the likelihood of watching and liking those movies.\n",
    "\n",
    "### **Data Dictionary**\n",
    "\n",
    "**movies.csv**\n",
    "- MovieId - A unique id given to the movies\n",
    "- ReleaseYear - Year the movie was released\n",
    "- MovieTitle - Name of the movie\n",
    "\n",
    "**Netflix_User_Ratings.csv**\n",
    "- CustId - A unique ID given to the users\n",
    "- Rating - Rating for each movie expressed on a five-star (integral) scale from 1-5\n",
    "- Date - Date the rating was made has the format YYYY-MM-DD.\n",
    "- MovieId - A unique ID given to the movies"
   ]
  },
  {
   "cell_type": "markdown",
   "id": "fca30fe8-ec1c-48e5-bbf9-d8d5c43f0cbe",
   "metadata": {},
   "source": [
    "## **Importing Libraries and Reading Dataset**"
   ]
  },
  {
   "cell_type": "code",
   "execution_count": 1,
   "id": "3c1bb9c1-6792-45b8-9a19-b2f0cdc79781",
   "metadata": {},
   "outputs": [],
   "source": [
    "# Importing necessary libraries for project - all libraries below are for numeric computations, dataframes, and data visualization\n",
    "import pandas as pd\n",
    "import numpy as np\n",
    "import seaborn as sns\n",
    "import matplotlib.pyplot as plt\n",
    "from matplotlib.ticker import FuncFormatter\n",
    "\n",
    "# Importing library to remove warnings\n",
    "import warnings\n",
    "warnings.filterwarnings('ignore')"
   ]
  },
  {
   "cell_type": "code",
   "execution_count": 2,
   "id": "7de59f5e-c478-4d54-9836-ad0e293d111e",
   "metadata": {},
   "outputs": [],
   "source": [
    "# Import Netflix datasets for movies and user ratings on movies\n",
    "movies_ = pd.read_csv(r'C:\\Users\\Luis Alfredo\\Documents\\Data Science - Python\\Datasets\\movies.csv')\n",
    "ratings = pd.read_csv(r'C:\\Users\\Luis Alfredo\\Documents\\Data Science - Python\\Datasets\\Netflix_User_Ratings.csv')"
   ]
  },
  {
   "cell_type": "code",
   "execution_count": 3,
   "id": "07143664-e045-44b2-8e06-b0324636aec2",
   "metadata": {},
   "outputs": [
    {
     "name": "stdout",
     "output_type": "stream",
     "text": [
      "Movies Shape: (17770, 3)\n",
      "User Ratings Shape: (100480507, 4)\n"
     ]
    }
   ],
   "source": [
    "# Viewing the dimensions of the datasets\n",
    "print('Movies Shape: {}'.format(movies_.shape))\n",
    "print('User Ratings Shape: {}'.format(ratings.shape))"
   ]
  },
  {
   "cell_type": "markdown",
   "id": "1e09a1e9-d03b-4c6c-a47e-201edae2805f",
   "metadata": {},
   "source": [
    "These are very large datasets that requires significant compututational power, therefore we will strategically reduce the size of the dataset for us to be able to process on a local computer. "
   ]
  },
  {
   "cell_type": "code",
   "execution_count": 4,
   "id": "4d03ba46-1397-442c-bc95-5b05d151e8ef",
   "metadata": {},
   "outputs": [
    {
     "data": {
      "text/html": [
       "<div>\n",
       "<style scoped>\n",
       "    .dataframe tbody tr th:only-of-type {\n",
       "        vertical-align: middle;\n",
       "    }\n",
       "\n",
       "    .dataframe tbody tr th {\n",
       "        vertical-align: top;\n",
       "    }\n",
       "\n",
       "    .dataframe thead th {\n",
       "        text-align: right;\n",
       "    }\n",
       "</style>\n",
       "<table border=\"1\" class=\"dataframe\">\n",
       "  <thead>\n",
       "    <tr style=\"text-align: right;\">\n",
       "      <th></th>\n",
       "      <th>MovieId</th>\n",
       "      <th>ReleaseYear</th>\n",
       "      <th>MovieTitle</th>\n",
       "    </tr>\n",
       "  </thead>\n",
       "  <tbody>\n",
       "    <tr>\n",
       "      <th>0</th>\n",
       "      <td>1</td>\n",
       "      <td>2003.0</td>\n",
       "      <td>Dinosaur Planet</td>\n",
       "    </tr>\n",
       "    <tr>\n",
       "      <th>1</th>\n",
       "      <td>2</td>\n",
       "      <td>2004.0</td>\n",
       "      <td>Isle of Man TT 2004 Review</td>\n",
       "    </tr>\n",
       "    <tr>\n",
       "      <th>2</th>\n",
       "      <td>3</td>\n",
       "      <td>1997.0</td>\n",
       "      <td>Character</td>\n",
       "    </tr>\n",
       "    <tr>\n",
       "      <th>3</th>\n",
       "      <td>4</td>\n",
       "      <td>1994.0</td>\n",
       "      <td>Paula Abdul's Get Up &amp; Dance</td>\n",
       "    </tr>\n",
       "    <tr>\n",
       "      <th>4</th>\n",
       "      <td>5</td>\n",
       "      <td>2004.0</td>\n",
       "      <td>The Rise and Fall of ECW</td>\n",
       "    </tr>\n",
       "  </tbody>\n",
       "</table>\n",
       "</div>"
      ],
      "text/plain": [
       "   MovieId  ReleaseYear                    MovieTitle\n",
       "0        1       2003.0               Dinosaur Planet\n",
       "1        2       2004.0    Isle of Man TT 2004 Review\n",
       "2        3       1997.0                     Character\n",
       "3        4       1994.0  Paula Abdul's Get Up & Dance\n",
       "4        5       2004.0      The Rise and Fall of ECW"
      ]
     },
     "execution_count": 4,
     "metadata": {},
     "output_type": "execute_result"
    }
   ],
   "source": [
    "# Viewing the movies dataframe imported\n",
    "movies_.head()"
   ]
  },
  {
   "cell_type": "code",
   "execution_count": 5,
   "id": "db82b3c5-6a5c-4f1f-8ed2-2974356b4027",
   "metadata": {},
   "outputs": [
    {
     "data": {
      "text/html": [
       "<div>\n",
       "<style scoped>\n",
       "    .dataframe tbody tr th:only-of-type {\n",
       "        vertical-align: middle;\n",
       "    }\n",
       "\n",
       "    .dataframe tbody tr th {\n",
       "        vertical-align: top;\n",
       "    }\n",
       "\n",
       "    .dataframe thead th {\n",
       "        text-align: right;\n",
       "    }\n",
       "</style>\n",
       "<table border=\"1\" class=\"dataframe\">\n",
       "  <thead>\n",
       "    <tr style=\"text-align: right;\">\n",
       "      <th></th>\n",
       "      <th>CustId</th>\n",
       "      <th>Rating</th>\n",
       "      <th>Date</th>\n",
       "      <th>MovieId</th>\n",
       "    </tr>\n",
       "  </thead>\n",
       "  <tbody>\n",
       "    <tr>\n",
       "      <th>0</th>\n",
       "      <td>1488844</td>\n",
       "      <td>3</td>\n",
       "      <td>2005-09-06</td>\n",
       "      <td>1</td>\n",
       "    </tr>\n",
       "    <tr>\n",
       "      <th>1</th>\n",
       "      <td>822109</td>\n",
       "      <td>5</td>\n",
       "      <td>2005-05-13</td>\n",
       "      <td>1</td>\n",
       "    </tr>\n",
       "    <tr>\n",
       "      <th>2</th>\n",
       "      <td>885013</td>\n",
       "      <td>4</td>\n",
       "      <td>2005-10-19</td>\n",
       "      <td>1</td>\n",
       "    </tr>\n",
       "    <tr>\n",
       "      <th>3</th>\n",
       "      <td>30878</td>\n",
       "      <td>4</td>\n",
       "      <td>2005-12-26</td>\n",
       "      <td>1</td>\n",
       "    </tr>\n",
       "    <tr>\n",
       "      <th>4</th>\n",
       "      <td>823519</td>\n",
       "      <td>3</td>\n",
       "      <td>2004-05-03</td>\n",
       "      <td>1</td>\n",
       "    </tr>\n",
       "  </tbody>\n",
       "</table>\n",
       "</div>"
      ],
      "text/plain": [
       "    CustId  Rating        Date  MovieId\n",
       "0  1488844       3  2005-09-06        1\n",
       "1   822109       5  2005-05-13        1\n",
       "2   885013       4  2005-10-19        1\n",
       "3    30878       4  2005-12-26        1\n",
       "4   823519       3  2004-05-03        1"
      ]
     },
     "execution_count": 5,
     "metadata": {},
     "output_type": "execute_result"
    }
   ],
   "source": [
    "# Viewing the user ratings dataframe imported\n",
    "ratings.head()"
   ]
  },
  {
   "cell_type": "code",
   "execution_count": 6,
   "id": "be92d798-7ee6-4833-a0ac-6b620f3cb234",
   "metadata": {},
   "outputs": [
    {
     "name": "stdout",
     "output_type": "stream",
     "text": [
      "<class 'pandas.core.frame.DataFrame'>\n",
      "RangeIndex: 17770 entries, 0 to 17769\n",
      "Data columns (total 3 columns):\n",
      " #   Column       Non-Null Count  Dtype  \n",
      "---  ------       --------------  -----  \n",
      " 0   MovieId      17770 non-null  int64  \n",
      " 1   ReleaseYear  17763 non-null  float64\n",
      " 2   MovieTitle   17770 non-null  object \n",
      "dtypes: float64(1), int64(1), object(1)\n",
      "memory usage: 416.6+ KB\n"
     ]
    }
   ],
   "source": [
    "# Checking data types and null values within the  movie dataset\n",
    "pd.options.display.max_info_rows = 150000000\n",
    "pd.options.display.max_info_columns = 150000000\n",
    "\n",
    "movies_.info(verbose = True)"
   ]
  },
  {
   "cell_type": "markdown",
   "id": "9d3b9c3c-822c-42ad-b709-4b4a8a124039",
   "metadata": {},
   "source": [
    "There are 7 nulls under ReleaseYear. The release year isn't important, but since we are looking for ways to strategically reduce the size of the data, we will remove these movies from the dataset. "
   ]
  },
  {
   "cell_type": "code",
   "execution_count": 7,
   "id": "f8e18eb8-0a62-4029-bbc8-8a4a892864c9",
   "metadata": {},
   "outputs": [
    {
     "name": "stdout",
     "output_type": "stream",
     "text": [
      "<class 'pandas.core.frame.DataFrame'>\n",
      "RangeIndex: 100480507 entries, 0 to 100480506\n",
      "Data columns (total 4 columns):\n",
      " #   Column   Non-Null Count      Dtype \n",
      "---  ------   --------------      ----- \n",
      " 0   CustId   100480507 non-null  int64 \n",
      " 1   Rating   100480507 non-null  int64 \n",
      " 2   Date     100480507 non-null  object\n",
      " 3   MovieId  100480507 non-null  int64 \n",
      "dtypes: int64(3), object(1)\n",
      "memory usage: 3.0+ GB\n"
     ]
    }
   ],
   "source": [
    "# Checking data types and null values within the user rating dataset\n",
    "ratings.info(verbose = True)"
   ]
  },
  {
   "cell_type": "markdown",
   "id": "b49761a7-4f72-4f98-be0e-24743c455350",
   "metadata": {},
   "source": [
    "We will look to see if there are duplicate user ratings for the same movie and will keep the most recent rating."
   ]
  },
  {
   "cell_type": "code",
   "execution_count": 8,
   "id": "703ed450-763d-4ecd-bd13-46c32c5095a3",
   "metadata": {},
   "outputs": [
    {
     "data": {
      "text/plain": [
       "(17763, 3)"
      ]
     },
     "execution_count": 8,
     "metadata": {},
     "output_type": "execute_result"
    }
   ],
   "source": [
    "# Removing any movies with no release year listed\n",
    "movies_ = movies_[~movies_['ReleaseYear'].isnull()]\n",
    "\n",
    "movies_.shape"
   ]
  },
  {
   "cell_type": "code",
   "execution_count": 9,
   "id": "64558f32-c1f1-46f9-8db7-3f8773539542",
   "metadata": {},
   "outputs": [
    {
     "data": {
      "text/plain": [
       "(100480507, 4)"
      ]
     },
     "execution_count": 9,
     "metadata": {},
     "output_type": "execute_result"
    }
   ],
   "source": [
    "# Changing the date data type from string to datetime for the dataframe to be sorted \n",
    "ratings['Date'] = pd.to_datetime(ratings['Date'], format='%Y-%m-%d')\n",
    "\n",
    "# Removing duplicates and keeping the most recent movie review\n",
    "ratings = ratings.sort_values(by = ['CustId', 'MovieId', 'Date'], ascending = False).drop_duplicates(subset = ['CustId', 'MovieId'], keep = 'first')\n",
    "\n",
    "ratings.shape"
   ]
  },
  {
   "cell_type": "markdown",
   "id": "1564e258-5ba0-4d0e-b2e6-07246c3cfc98",
   "metadata": {},
   "source": [
    "We can see no duplicates were removed from the user ratings datasets, but movies were removed from the movies dataset. "
   ]
  },
  {
   "cell_type": "code",
   "execution_count": 10,
   "id": "ce8b8a60-4202-4f2d-9471-02d5cb5930f8",
   "metadata": {},
   "outputs": [
    {
     "data": {
      "text/html": [
       "<div>\n",
       "<style scoped>\n",
       "    .dataframe tbody tr th:only-of-type {\n",
       "        vertical-align: middle;\n",
       "    }\n",
       "\n",
       "    .dataframe tbody tr th {\n",
       "        vertical-align: top;\n",
       "    }\n",
       "\n",
       "    .dataframe thead th {\n",
       "        text-align: right;\n",
       "    }\n",
       "</style>\n",
       "<table border=\"1\" class=\"dataframe\">\n",
       "  <thead>\n",
       "    <tr style=\"text-align: right;\">\n",
       "      <th></th>\n",
       "      <th>CustId</th>\n",
       "      <th>Rating</th>\n",
       "      <th>Date</th>\n",
       "      <th>MovieId</th>\n",
       "      <th>ReleaseYear</th>\n",
       "      <th>MovieTitle</th>\n",
       "    </tr>\n",
       "  </thead>\n",
       "  <tbody>\n",
       "    <tr>\n",
       "      <th>0</th>\n",
       "      <td>2649429</td>\n",
       "      <td>2</td>\n",
       "      <td>2002-12-07</td>\n",
       "      <td>17692</td>\n",
       "      <td>2002.0</td>\n",
       "      <td>Scooby-Doo</td>\n",
       "    </tr>\n",
       "    <tr>\n",
       "      <th>1</th>\n",
       "      <td>2649429</td>\n",
       "      <td>3</td>\n",
       "      <td>2003-07-21</td>\n",
       "      <td>17627</td>\n",
       "      <td>2001.0</td>\n",
       "      <td>Harry Potter and the Sorcerer's Stone</td>\n",
       "    </tr>\n",
       "    <tr>\n",
       "      <th>2</th>\n",
       "      <td>2649429</td>\n",
       "      <td>4</td>\n",
       "      <td>2003-02-28</td>\n",
       "      <td>17622</td>\n",
       "      <td>2001.0</td>\n",
       "      <td>Vanilla Sky</td>\n",
       "    </tr>\n",
       "    <tr>\n",
       "      <th>3</th>\n",
       "      <td>2649429</td>\n",
       "      <td>4</td>\n",
       "      <td>2004-11-28</td>\n",
       "      <td>17580</td>\n",
       "      <td>2004.0</td>\n",
       "      <td>The Whole Ten Yards</td>\n",
       "    </tr>\n",
       "    <tr>\n",
       "      <th>4</th>\n",
       "      <td>2649429</td>\n",
       "      <td>5</td>\n",
       "      <td>2002-05-16</td>\n",
       "      <td>17560</td>\n",
       "      <td>1984.0</td>\n",
       "      <td>Ghostbusters</td>\n",
       "    </tr>\n",
       "    <tr>\n",
       "      <th>...</th>\n",
       "      <td>...</td>\n",
       "      <td>...</td>\n",
       "      <td>...</td>\n",
       "      <td>...</td>\n",
       "      <td>...</td>\n",
       "      <td>...</td>\n",
       "    </tr>\n",
       "    <tr>\n",
       "      <th>100480502</th>\n",
       "      <td>6</td>\n",
       "      <td>2</td>\n",
       "      <td>2004-11-24</td>\n",
       "      <td>191</td>\n",
       "      <td>2003.0</td>\n",
       "      <td>X2: X-Men United</td>\n",
       "    </tr>\n",
       "    <tr>\n",
       "      <th>100480503</th>\n",
       "      <td>6</td>\n",
       "      <td>5</td>\n",
       "      <td>2004-10-10</td>\n",
       "      <td>175</td>\n",
       "      <td>1992.0</td>\n",
       "      <td>Reservoir Dogs</td>\n",
       "    </tr>\n",
       "    <tr>\n",
       "      <th>100480504</th>\n",
       "      <td>6</td>\n",
       "      <td>4</td>\n",
       "      <td>2004-09-15</td>\n",
       "      <td>173</td>\n",
       "      <td>1968.0</td>\n",
       "      <td>The Devil's Brigade</td>\n",
       "    </tr>\n",
       "    <tr>\n",
       "      <th>100480505</th>\n",
       "      <td>6</td>\n",
       "      <td>3</td>\n",
       "      <td>2004-09-15</td>\n",
       "      <td>157</td>\n",
       "      <td>2004.0</td>\n",
       "      <td>Laird: White Knuckle Extreme</td>\n",
       "    </tr>\n",
       "    <tr>\n",
       "      <th>100480506</th>\n",
       "      <td>6</td>\n",
       "      <td>3</td>\n",
       "      <td>2004-09-15</td>\n",
       "      <td>30</td>\n",
       "      <td>2003.0</td>\n",
       "      <td>Something's Gotta Give</td>\n",
       "    </tr>\n",
       "  </tbody>\n",
       "</table>\n",
       "<p>100480507 rows × 6 columns</p>\n",
       "</div>"
      ],
      "text/plain": [
       "            CustId  Rating       Date  MovieId  ReleaseYear  \\\n",
       "0          2649429       2 2002-12-07    17692       2002.0   \n",
       "1          2649429       3 2003-07-21    17627       2001.0   \n",
       "2          2649429       4 2003-02-28    17622       2001.0   \n",
       "3          2649429       4 2004-11-28    17580       2004.0   \n",
       "4          2649429       5 2002-05-16    17560       1984.0   \n",
       "...            ...     ...        ...      ...          ...   \n",
       "100480502        6       2 2004-11-24      191       2003.0   \n",
       "100480503        6       5 2004-10-10      175       1992.0   \n",
       "100480504        6       4 2004-09-15      173       1968.0   \n",
       "100480505        6       3 2004-09-15      157       2004.0   \n",
       "100480506        6       3 2004-09-15       30       2003.0   \n",
       "\n",
       "                                      MovieTitle  \n",
       "0                                     Scooby-Doo  \n",
       "1          Harry Potter and the Sorcerer's Stone  \n",
       "2                                    Vanilla Sky  \n",
       "3                            The Whole Ten Yards  \n",
       "4                                   Ghostbusters  \n",
       "...                                          ...  \n",
       "100480502                       X2: X-Men United  \n",
       "100480503                         Reservoir Dogs  \n",
       "100480504                    The Devil's Brigade  \n",
       "100480505           Laird: White Knuckle Extreme  \n",
       "100480506                 Something's Gotta Give  \n",
       "\n",
       "[100480507 rows x 6 columns]"
      ]
     },
     "execution_count": 10,
     "metadata": {},
     "output_type": "execute_result"
    }
   ],
   "source": [
    "# Merging the movies dataset to user ratings dataset\n",
    "\n",
    "data = pd.merge(ratings, movies_, on = 'MovieId', how = 'left')\n",
    "data"
   ]
  },
  {
   "cell_type": "markdown",
   "id": "30a187d2-b424-4901-ac95-0e1ad866acfa",
   "metadata": {},
   "source": [
    "To continue to reduce the size of the dataset, we will only use movies with release year from 2000 and on."
   ]
  },
  {
   "cell_type": "code",
   "execution_count": 11,
   "id": "cedbfa4d-d88e-41c4-9861-9e1a4292b5d0",
   "metadata": {},
   "outputs": [
    {
     "data": {
      "text/plain": [
       "(44499220, 6)"
      ]
     },
     "execution_count": 11,
     "metadata": {},
     "output_type": "execute_result"
    }
   ],
   "source": [
    "# Removing movies with release year before 2000\n",
    "data = data[data['ReleaseYear'] > 1999]\n",
    "data.shape"
   ]
  },
  {
   "cell_type": "code",
   "execution_count": 12,
   "id": "39748f33-51de-40f5-9fdc-52dd6b7c2740",
   "metadata": {},
   "outputs": [
    {
     "data": {
      "image/png": "[encoded data removed]",
      "text/plain": [
       "<Figure size 1200x400 with 1 Axes>"
      ]
     },
     "metadata": {},
     "output_type": "display_data"
    }
   ],
   "source": [
    "# Creating the layout of the figure for us to add a graph to\n",
    "fig, ax = plt.subplots(1, 1, figsize = (12,4))\n",
    "\n",
    "# Creating bar plot as our graph to visualize the distribution of user ratings\n",
    "sns.countplot(data = data, x = 'Rating')\n",
    "\n",
    "# Function to format numeric values into millions\n",
    "def format_ticks(x, pos):\n",
    "    return f'{int(x / 1000000)}M'\n",
    "\n",
    "plt.gca().yaxis.set_major_formatter(FuncFormatter(format_ticks))\n",
    "plt.title('Distribution of Ratings')\n",
    "plt.xlabel('Ratings', fontsize = 10)\n",
    "plt.ylabel('Number of Ratings', fontsize = 10)\n",
    "sns.set_style('darkgrid')\n",
    "plt.show()"
   ]
  },
  {
   "cell_type": "markdown",
   "id": "8d7f7d68-13e7-4c8f-b41b-ba29366cfae5",
   "metadata": {},
   "source": [
    "Looking at the distribution of ratings, we can see that most movies are rated 3 stars and more. This is a good sign for Netflix that they are streaming liked movies. "
   ]
  },
  {
   "cell_type": "code",
   "execution_count": 13,
   "id": "6e297836-b018-487e-8806-283beddc2322",
   "metadata": {},
   "outputs": [
    {
     "data": {
      "text/plain": [
       "CustId         478880\n",
       "Rating              5\n",
       "Date             2090\n",
       "MovieId          6947\n",
       "ReleaseYear         6\n",
       "MovieTitle       6926\n",
       "dtype: int64"
      ]
     },
     "execution_count": 13,
     "metadata": {},
     "output_type": "execute_result"
    }
   ],
   "source": [
    "# Checking unique number of users and movies\n",
    "data.nunique()"
   ]
  },
  {
   "cell_type": "markdown",
   "id": "2f4ee8a7-b3aa-4a73-a66d-5aecac355d06",
   "metadata": {},
   "source": [
    "Important to note here that there are 478,880 unique users and 6,947 unique movies. "
   ]
  },
  {
   "cell_type": "code",
   "execution_count": 14,
   "id": "ff1f88a2-03ab-48b9-bb1b-7a7a8f9cd8f0",
   "metadata": {},
   "outputs": [
    {
     "data": {
      "text/plain": [
       "MovieId\n",
       "5317     232944\n",
       "14313    200832\n",
       "15205    196397\n",
       "1905     193941\n",
       "15582    176539\n",
       "          ...  \n",
       "16875        23\n",
       "12418        22\n",
       "4711         22\n",
       "11344        10\n",
       "13755         3\n",
       "Name: count, Length: 6947, dtype: int64"
      ]
     },
     "execution_count": 14,
     "metadata": {},
     "output_type": "execute_result"
    }
   ],
   "source": [
    "# Quick look at number of ratings each movie got, seeing top movies\n",
    "data['MovieId'].value_counts()"
   ]
  },
  {
   "cell_type": "markdown",
   "id": "abdaf897-9cf5-4673-9616-847109d3d44d",
   "metadata": {},
   "source": [
    "Top movie is 5317 with 232,944 ratings."
   ]
  },
  {
   "cell_type": "code",
   "execution_count": 15,
   "id": "7232c5eb-b06e-43f8-a3b1-5b26b5c80573",
   "metadata": {},
   "outputs": [
    {
     "data": {
      "text/html": [
       "<div>\n",
       "<style scoped>\n",
       "    .dataframe tbody tr th:only-of-type {\n",
       "        vertical-align: middle;\n",
       "    }\n",
       "\n",
       "    .dataframe tbody tr th {\n",
       "        vertical-align: top;\n",
       "    }\n",
       "\n",
       "    .dataframe thead th {\n",
       "        text-align: right;\n",
       "    }\n",
       "</style>\n",
       "<table border=\"1\" class=\"dataframe\">\n",
       "  <thead>\n",
       "    <tr style=\"text-align: right;\">\n",
       "      <th></th>\n",
       "      <th>MovieId</th>\n",
       "      <th>ReleaseYear</th>\n",
       "      <th>MovieTitle</th>\n",
       "    </tr>\n",
       "  </thead>\n",
       "  <tbody>\n",
       "    <tr>\n",
       "      <th>5316</th>\n",
       "      <td>5317</td>\n",
       "      <td>2000.0</td>\n",
       "      <td>Miss Congeniality</td>\n",
       "    </tr>\n",
       "  </tbody>\n",
       "</table>\n",
       "</div>"
      ],
      "text/plain": [
       "      MovieId  ReleaseYear         MovieTitle\n",
       "5316     5317       2000.0  Miss Congeniality"
      ]
     },
     "execution_count": 15,
     "metadata": {},
     "output_type": "execute_result"
    }
   ],
   "source": [
    "# Pulling top movie information\n",
    "movies_[movies_['MovieId'] == 5317]"
   ]
  },
  {
   "cell_type": "code",
   "execution_count": 16,
   "id": "ab080882-a23d-4517-9c9f-307af621755a",
   "metadata": {},
   "outputs": [
    {
     "data": {
      "image/png": "[encoded data removed]",
      "text/plain": [
       "<Figure size 1200x400 with 1 Axes>"
      ]
     },
     "metadata": {},
     "output_type": "display_data"
    }
   ],
   "source": [
    "# Creating the layout of the figure for us to add a graph to\n",
    "fig, ax = plt.subplots(1, 1, figsize = (12,4))\n",
    "\n",
    "# Creating bar plot as our graph to visualize the ratings of the most watched MovieId 5317 - Miss Congeniality\n",
    "data[data['MovieId'] == 5317]['Rating'].value_counts().sort_index().plot(kind = 'bar')\n",
    "sns.set_style('darkgrid')\n",
    "\n",
    "# Function to format numeric values into thousands\n",
    "def format_ticks(x, pos):\n",
    "    return f'{int(x / 1000)}k'\n",
    "\n",
    "plt.gca().yaxis.set_major_formatter(FuncFormatter(format_ticks))\n",
    "plt.xlabel('Rating')\n",
    "plt.ylabel('Number of Ratings')\n",
    "plt.title('Ratings For Most Watched Movie - Miss Congeniality (5317)')\n",
    "plt.show()"
   ]
  },
  {
   "cell_type": "markdown",
   "id": "f8491e65-1968-48f7-aef8-a59adaf39324",
   "metadata": {},
   "source": [
    "We can see that most ratings for Miss Congeniality were 3 stars and meaning most people enjoyed it to some level. Distribution is very similar to that of the distirbution of total ratings. I would personally say good movie. "
   ]
  },
  {
   "cell_type": "markdown",
   "id": "f5d31d83-248e-4f3c-99c2-ce9b09c9fa42",
   "metadata": {},
   "source": [
    "## **Data Preparation**"
   ]
  },
  {
   "cell_type": "markdown",
   "id": "10512bc5-e704-4212-996e-08d053e3b442",
   "metadata": {},
   "source": [
    "As mentioned before, this dataset is still quite large and has 44,499,220 observations. This is not computationally efficient to build a model using this. Moreover, many users have only rated a few movies and many movies have only a small number of ratings. Hence, we can reduce the dataset by considering certain Logical assumptions here.\n",
    "\n",
    "We will begin reducing the dataset by randomly choosing 23,000 users for the dataset. After, we will be taking users who have given at least 100 ratings and movies with at least 500 ratings, as we prefer to have some number of ratings for a movie. "
   ]
  },
  {
   "cell_type": "code",
   "execution_count": 17,
   "id": "363aacb2-19b5-4242-9d9e-fba5c5c81935",
   "metadata": {},
   "outputs": [],
   "source": [
    "# Choosing 23,000 random integers from 0 to 478,880 \n",
    "random_ints = list(np.random.choice(np.arange(0,478880), size = 23000, replace = False))\n",
    "\n",
    "# Using the random 23,000 integers to pick users from a list using the integers as indices\n",
    "random_users = data['CustId'].unique()[[random_ints]]\n",
    "\n",
    "# Using the random users list to select the users within the dataframe\n",
    "data = data[(data.CustId.isin(random_users))]"
   ]
  },
  {
   "cell_type": "code",
   "execution_count": 18,
   "id": "6c20f148-82b1-44a0-a4f4-5fa87116c28e",
   "metadata": {},
   "outputs": [
    {
     "data": {
      "text/plain": [
       "(2137791, 6)"
      ]
     },
     "execution_count": 18,
     "metadata": {},
     "output_type": "execute_result"
    }
   ],
   "source": [
    "# Viewing how much the dataset has been reduced\n",
    "data.shape"
   ]
  },
  {
   "cell_type": "code",
   "execution_count": 19,
   "id": "bf85f68e-58fd-4e26-b37d-e3b3ab61d754",
   "metadata": {},
   "outputs": [],
   "source": [
    "# Putting the 23,000 random users into a list \n",
    "users = data.CustId\n",
    "\n",
    "# Creating a dictionary for users and counting the number of ratings made by each user \n",
    "rating_counts = dict()\n",
    "\n",
    "# If user has been accounted for then we add 1 to the rating count, otherwise we start the user rating count at 1, CustId is the dictionary key \n",
    "for user in users:\n",
    "    if user in rating_counts:\n",
    "        rating_counts[user] += 1\n",
    "\n",
    "    else:\n",
    "        rating_counts[user] = 1"
   ]
  },
  {
   "cell_type": "code",
   "execution_count": 20,
   "id": "95c87170-fa7b-4741-851f-a909f4a74e22",
   "metadata": {},
   "outputs": [],
   "source": [
    "# Number of ratings made by a user has a cutoff of 100\n",
    "ratings_cutoff = 100\n",
    "\n",
    "# Creating list of users to be removed\n",
    "remove_users = []\n",
    "\n",
    "# If user does not have at least 100 rating counts, it will be added to list of users to be removed\n",
    "for user, num_ratings in rating_counts.items():\n",
    "    if num_ratings < ratings_cutoff:\n",
    "        remove_users.append(user)\n",
    "\n",
    "# Removing users from list that do not have at least 100 ratings count\n",
    "data = data.loc[~data.CustId.isin(remove_users)]"
   ]
  },
  {
   "cell_type": "code",
   "execution_count": 21,
   "id": "53143bf5-8e2d-4e0a-967c-42c689c0ba0f",
   "metadata": {},
   "outputs": [
    {
     "data": {
      "text/plain": [
       "(1574729, 6)"
      ]
     },
     "execution_count": 21,
     "metadata": {},
     "output_type": "execute_result"
    }
   ],
   "source": [
    "# Viewing how much the dataset has been reduced\n",
    "data.shape"
   ]
  },
  {
   "cell_type": "code",
   "execution_count": 22,
   "id": "150baaae-e829-4ac7-b6b4-fec55f1a284d",
   "metadata": {},
   "outputs": [],
   "source": [
    "# Putting the movies into a list \n",
    "movies = data.MovieId\n",
    "\n",
    "# Creating a dictionary for movies and counting the number of ratings made for each movie\n",
    "ratings_count = dict()\n",
    "\n",
    "# If movie has been accounted for then we add 1 to the rating count, otherwise we start the movie rating count at 1, MovieId is the dictionary key \n",
    "for movie in movies:\n",
    "    if movie in ratings_count:\n",
    "        ratings_count[movie] += 1\n",
    "\n",
    "    else:\n",
    "        ratings_count[movie] = 1"
   ]
  },
  {
   "cell_type": "code",
   "execution_count": 23,
   "id": "4399b276-5b79-4aca-beea-d64021888561",
   "metadata": {},
   "outputs": [],
   "source": [
    "# Number of ratings a movie has a cutoff of 500\n",
    "rating_cutoff = 500\n",
    "\n",
    "# Creating list of movies to be removed\n",
    "remove_movies = []\n",
    "\n",
    "# If movie does not have at least 500 rating counts, it will be added to list of movies to be removed\n",
    "for movie, num_ratings in ratings_count.items():\n",
    "    if num_ratings < rating_cutoff:\n",
    "        remove_movies.append(movie)\n",
    "\n",
    "# Removing movies from list that do not have at least 500 ratings count\n",
    "data = data.loc[~data.MovieId.isin(remove_movies)]"
   ]
  },
  {
   "cell_type": "code",
   "execution_count": 24,
   "id": "8532bf29-e352-46b7-81f9-92814848a1cb",
   "metadata": {},
   "outputs": [
    {
     "data": {
      "text/plain": [
       "(1280361, 6)"
      ]
     },
     "execution_count": 24,
     "metadata": {},
     "output_type": "execute_result"
    }
   ],
   "source": [
    "# Viewing how much the dataset has been reduced\n",
    "data.shape"
   ]
  },
  {
   "cell_type": "code",
   "execution_count": 25,
   "id": "9c15e3c7-d217-4450-9631-6cc792292c96",
   "metadata": {},
   "outputs": [
    {
     "data": {
      "text/plain": [
       "CustId         7316\n",
       "Rating            5\n",
       "Date           1963\n",
       "MovieId         703\n",
       "ReleaseYear       6\n",
       "MovieTitle      703\n",
       "dtype: int64"
      ]
     },
     "execution_count": 25,
     "metadata": {},
     "output_type": "execute_result"
    }
   ],
   "source": [
    "# Checking unique number of users and movies after the dataset has been reduced\n",
    "data.nunique()"
   ]
  },
  {
   "cell_type": "markdown",
   "id": "847f7ed4-4027-402e-bbea-adb3bcec85d9",
   "metadata": {},
   "source": [
    "After reducing the dataset to 1,280,361 observations, we can see that we have 7,316 unique users and 703 unique movies. "
   ]
  },
  {
   "cell_type": "code",
   "execution_count": 26,
   "id": "787691bf-e242-4c3f-adec-5bb3f930c352",
   "metadata": {},
   "outputs": [],
   "source": [
    "# Copying dataframe\n",
    "df = data.copy()"
   ]
  },
  {
   "cell_type": "code",
   "execution_count": 27,
   "id": "eaa9276a-73bd-4dcf-ae4a-c2a04a053589",
   "metadata": {},
   "outputs": [],
   "source": [
    "# Importing encoder to ease the processing of the dataset\n",
    "from sklearn.preprocessing import LabelEncoder\n",
    "\n",
    "# Encoding columns CustId and MovieId\n",
    "le = LabelEncoder()\n",
    "\n",
    "df['CustId'] = le.fit_transform(df['CustId'])\n",
    "df['MovieId'] = le.fit_transform(df['MovieId'])"
   ]
  },
  {
   "cell_type": "code",
   "execution_count": 28,
   "id": "1dca463b-d17d-4701-a2fd-63c508f45aa9",
   "metadata": {},
   "outputs": [
    {
     "data": {
      "image/png": "[encoded data removed]",
      "text/plain": [
       "<Figure size 1000x400 with 1 Axes>"
      ]
     },
     "metadata": {},
     "output_type": "display_data"
    }
   ],
   "source": [
    "# Creating the layout of the figure for us to add a graph to\n",
    "fig, ax = plt.subplots(1, 1, figsize = (10,4))\n",
    "\n",
    "# Creating dataframe for the distribution of interactions to graph\n",
    "interactions = df.groupby('CustId').count()['MovieId']\n",
    "\n",
    "# Creating histogram as our graph to visualize the distribution\n",
    "sns.histplot(interactions)\n",
    "\n",
    "plt.xlabel('Number of Interactions by User')\n",
    "plt.title('Distribution of Interactions by Users')\n",
    "plt.show()"
   ]
  },
  {
   "cell_type": "markdown",
   "id": "3c53f89f-c278-4467-86ed-8569a30ed90a",
   "metadata": {},
   "source": [
    "From our bar graph, we see the distribution of interactions is skewed right, meaning that most users in the set have interacted, or rated, 200 movies or less.\n",
    "\n",
    "Now we will look to pull a random user that has seen Bad Boys II and not Rush Hour 2, as I would say they are similar movies and I enjoyed both. We will use this user and these movie IDs as a guidance for the model's predictions in the upcoming next steps."
   ]
  },
  {
   "cell_type": "code",
   "execution_count": 29,
   "id": "d66880aa-9e7d-4267-9f64-dd518b5eca33",
   "metadata": {},
   "outputs": [
    {
     "name": "stdout",
     "output_type": "stream",
     "text": [
      "       CustId  Rating       Date  MovieId  ReleaseYear   MovieTitle\n",
      "17347    7314       4 2004-06-08      137       2003.0  Bad Boys II\n",
      "27\n"
     ]
    }
   ],
   "source": [
    "# Pulling MovieId for \"Bad Boys II\" and \"Rush Hour 2\"\n",
    "bad_boys_II = df[df['MovieTitle'] == 'Bad Boys II']['MovieId'].iloc[0]\n",
    "rush_hour = df[df['MovieTitle'] == 'Rush Hour 2']['MovieId'].iloc[0]\n",
    "\n",
    "# Looking for the first user that has seen Bad Boys II and not Rush Hour 2 and printing out the IDs of both movies, the user ID, and the rating the user gave to Bad Boys II\n",
    "for user in df['CustId'].unique():\n",
    "    movie_list = list(df[df['CustId'] == user]['MovieId'])\n",
    "\n",
    "    if bad_boys_II in movie_list and rush_hour not in movie_list:\n",
    "        print(df[(df['CustId'] == user)&(df['MovieId'] == bad_boys_II)])\n",
    "        print(rush_hour)\n",
    "        break"
   ]
  },
  {
   "cell_type": "markdown",
   "id": "f652e7a9-da60-4205-b587-f0bb09a17d2a",
   "metadata": {},
   "source": [
    "## **Recommendation Systems**"
   ]
  },
  {
   "cell_type": "markdown",
   "id": "a236eaac-5ae5-430f-9b2e-89a7610c00fe",
   "metadata": {},
   "source": [
    "## Model 1: Create Rank-Based Recommendation System"
   ]
  },
  {
   "cell_type": "markdown",
   "id": "2f1986c8-5c02-4731-9894-106c69789c29",
   "metadata": {},
   "source": [
    "Rank-based recommendation systems provide recommendations based on the most popular movies. This kind of recommendation system is useful when we have a **cold start** problem. Cold start refers to the issue when we get a new user into the system and the machine is not able to recommend movies to the new user, as the user did not have any historical interactions in the dataset. In those cases, we can use a rank-based recommendation system to recommend movies to the new user. We will do this by getting the averages of all ratings for each movie and then ranking them based on their average rating. "
   ]
  },
  {
   "cell_type": "code",
   "execution_count": 30,
   "id": "ea0a2598-9e97-478a-99f9-8c7a7b6fd7f4",
   "metadata": {},
   "outputs": [],
   "source": [
    "# Calculating averages for each movie\n",
    "average_rating = df.groupby('MovieId')['Rating'].mean()\n",
    "\n",
    "# Counting number of ratings made for each movie\n",
    "count_rating = df.groupby('MovieId')['Rating'].count()\n",
    "\n",
    "# Creating dataframe with number of ratings and averages\n",
    "rank_rating = pd.DataFrame({'avg_rating':average_rating, 'rating_count':count_rating})"
   ]
  },
  {
   "cell_type": "code",
   "execution_count": 31,
   "id": "205764b6-41a3-45c9-9e58-421aa205ae72",
   "metadata": {},
   "outputs": [
    {
     "data": {
      "text/html": [
       "<div>\n",
       "<style scoped>\n",
       "    .dataframe tbody tr th:only-of-type {\n",
       "        vertical-align: middle;\n",
       "    }\n",
       "\n",
       "    .dataframe tbody tr th {\n",
       "        vertical-align: top;\n",
       "    }\n",
       "\n",
       "    .dataframe thead th {\n",
       "        text-align: right;\n",
       "    }\n",
       "</style>\n",
       "<table border=\"1\" class=\"dataframe\">\n",
       "  <thead>\n",
       "    <tr style=\"text-align: right;\">\n",
       "      <th></th>\n",
       "      <th>avg_rating</th>\n",
       "      <th>rating_count</th>\n",
       "    </tr>\n",
       "    <tr>\n",
       "      <th>MovieId</th>\n",
       "      <th></th>\n",
       "      <th></th>\n",
       "    </tr>\n",
       "  </thead>\n",
       "  <tbody>\n",
       "    <tr>\n",
       "      <th>0</th>\n",
       "      <td>3.812076</td>\n",
       "      <td>1623</td>\n",
       "    </tr>\n",
       "    <tr>\n",
       "      <th>1</th>\n",
       "      <td>3.714148</td>\n",
       "      <td>4142</td>\n",
       "    </tr>\n",
       "    <tr>\n",
       "      <th>2</th>\n",
       "      <td>3.156368</td>\n",
       "      <td>793</td>\n",
       "    </tr>\n",
       "    <tr>\n",
       "      <th>3</th>\n",
       "      <td>3.084732</td>\n",
       "      <td>1192</td>\n",
       "    </tr>\n",
       "    <tr>\n",
       "      <th>4</th>\n",
       "      <td>3.286432</td>\n",
       "      <td>995</td>\n",
       "    </tr>\n",
       "  </tbody>\n",
       "</table>\n",
       "</div>"
      ],
      "text/plain": [
       "         avg_rating  rating_count\n",
       "MovieId                          \n",
       "0          3.812076          1623\n",
       "1          3.714148          4142\n",
       "2          3.156368           793\n",
       "3          3.084732          1192\n",
       "4          3.286432           995"
      ]
     },
     "execution_count": 31,
     "metadata": {},
     "output_type": "execute_result"
    }
   ],
   "source": [
    "rank_rating.head()"
   ]
  },
  {
   "cell_type": "code",
   "execution_count": 32,
   "id": "f23c7913-5c05-4445-b596-bd8a603a5398",
   "metadata": {},
   "outputs": [],
   "source": [
    "# Creating function to find top n movies based on average movie rating with at least 300 ratings given \n",
    "def top_n_movies(data, n, min_interactions = 300):\n",
    "    data = data[data['rating_count'] >= 300]\n",
    "    data = data.sort_values(by = 'avg_rating', ascending = False)\n",
    "\n",
    "    return data.index[:n]"
   ]
  },
  {
   "cell_type": "code",
   "execution_count": 33,
   "id": "1506bc4b-4b82-4354-b3c0-7e44a1f454d4",
   "metadata": {},
   "outputs": [
    {
     "data": {
      "text/plain": [
       "[573, 290, 294, 543, 450]"
      ]
     },
     "execution_count": 33,
     "metadata": {},
     "output_type": "execute_result"
    }
   ],
   "source": [
    "#Using function above to get top 5 rank based movies \n",
    "top_5_movies = list(top_n_movies(rank_rating, 5))\n",
    "top_5_movies"
   ]
  },
  {
   "cell_type": "code",
   "execution_count": 34,
   "id": "f329b453-8142-4c15-b2d6-a590dc032426",
   "metadata": {},
   "outputs": [
    {
     "data": {
      "text/html": [
       "<div>\n",
       "<style scoped>\n",
       "    .dataframe tbody tr th:only-of-type {\n",
       "        vertical-align: middle;\n",
       "    }\n",
       "\n",
       "    .dataframe tbody tr th {\n",
       "        vertical-align: top;\n",
       "    }\n",
       "\n",
       "    .dataframe thead th {\n",
       "        text-align: right;\n",
       "    }\n",
       "</style>\n",
       "<table border=\"1\" class=\"dataframe\">\n",
       "  <thead>\n",
       "    <tr style=\"text-align: right;\">\n",
       "      <th></th>\n",
       "      <th>MovieId</th>\n",
       "      <th>ReleaseYear</th>\n",
       "      <th>MovieTitle</th>\n",
       "    </tr>\n",
       "  </thead>\n",
       "  <tbody>\n",
       "    <tr>\n",
       "      <th>9855</th>\n",
       "      <td>573</td>\n",
       "      <td>2003.0</td>\n",
       "      <td>Lord of the Rings: The Return of the King: Ext...</td>\n",
       "    </tr>\n",
       "    <tr>\n",
       "      <th>10189</th>\n",
       "      <td>294</td>\n",
       "      <td>2001.0</td>\n",
       "      <td>The Lord of the Rings: The Fellowship of the R...</td>\n",
       "    </tr>\n",
       "    <tr>\n",
       "      <th>48129</th>\n",
       "      <td>543</td>\n",
       "      <td>2003.0</td>\n",
       "      <td>Lord of the Rings: The Return of the King</td>\n",
       "    </tr>\n",
       "    <tr>\n",
       "      <th>50018</th>\n",
       "      <td>290</td>\n",
       "      <td>2002.0</td>\n",
       "      <td>Lord of the Rings: The Two Towers: Extended Ed...</td>\n",
       "    </tr>\n",
       "    <tr>\n",
       "      <th>565471</th>\n",
       "      <td>450</td>\n",
       "      <td>2004.0</td>\n",
       "      <td>The Sopranos: Season 5</td>\n",
       "    </tr>\n",
       "  </tbody>\n",
       "</table>\n",
       "</div>"
      ],
      "text/plain": [
       "        MovieId  ReleaseYear  \\\n",
       "9855        573       2003.0   \n",
       "10189       294       2001.0   \n",
       "48129       543       2003.0   \n",
       "50018       290       2002.0   \n",
       "565471      450       2004.0   \n",
       "\n",
       "                                               MovieTitle  \n",
       "9855    Lord of the Rings: The Return of the King: Ext...  \n",
       "10189   The Lord of the Rings: The Fellowship of the R...  \n",
       "48129           Lord of the Rings: The Return of the King  \n",
       "50018   Lord of the Rings: The Two Towers: Extended Ed...  \n",
       "565471                             The Sopranos: Season 5  "
      ]
     },
     "execution_count": 34,
     "metadata": {},
     "output_type": "execute_result"
    }
   ],
   "source": [
    "# Pulling names of the top 5 movies chosen above\n",
    "top_movies = df[['MovieId', 'ReleaseYear', 'MovieTitle']].drop_duplicates()\n",
    "top_movies = top_movies[top_movies.MovieId.isin(top_5_movies)]\n",
    "top_movies"
   ]
  },
  {
   "cell_type": "markdown",
   "id": "2e76fdb4-d8d5-4ee8-90b1-83c70617a399",
   "metadata": {},
   "source": [
    "Top rated movies seem to be Lord of the Rings, which seems accurate as it is one of the best trilogies of all time."
   ]
  },
  {
   "cell_type": "markdown",
   "id": "82f95813-f952-4244-9a45-645549b3471c",
   "metadata": {},
   "source": [
    "# Model 2: User Based Collaborative Filtering Recommendation System"
   ]
  },
  {
   "cell_type": "markdown",
   "id": "eb9d0176-2b87-40ef-9756-25f6d716384e",
   "metadata": {},
   "source": [
    "In this type of recommendation system, we do not need any information about the users or movies. We only need user item interaction data to build a collaborative recommendation system. Below we are building a user similarity-based recommendation system using cosine similarity and using KNN to find similar users through nearest neighbors to the given user.  \n",
    "\n",
    "#### Before building the recommendation systems, let's define the terminologies we will use:\n",
    "\n",
    "**Relevant movie** - A movie that is rated higher than the threshold rating (3) is relevant, if the actual rating is below the threshold then it is a non-relevant movie.  \n",
    "\n",
    "**Recommended movie** - A movie that's predicted rating is higher than the threshold rating (3) is a recommended item, if the predicted _rating is below the threshold, then that movie will not be recommended to the user.  \n",
    "\n",
    "**False Negative (FN)** - It is the frequency of relevant movies that are not recommended to the user. If the relevant movies are not recommended to the user, then the user might not watch the movie. This would result in the loss of opportunity for Netflix, which they would like to minimize.\n",
    "\n",
    "**False Positive (FP)** - It is the frequency of recommended movies that are not relevant. In this case, the recommendation system is not doing a good job of finding and recommending the relevant movies to the user. This would result in loss of resources for Netflix, which they would also like to minimize.\n",
    "\n",
    "**Recall** - It is the fraction of actually relevant movies that are recommended to the user, i.e. if out of 10 relevant movies, 6 are recommended to the user then recall is 0.60. The higher the value of recall, the better the model is.\n",
    "\n",
    "**Precision** - It is the fraction of recommended movies that are relevant, i.e. if out of 10 recommended items, 6 are found relevant by the user then precision is 0.60. The higher the value of precision, the better the model is. \n",
    "\n",
    "**While making a recommendation system, it becomes customary to look at the performance of the model. In terms of how many recommendations are relevant and vice-versa, below are the two most used performance metrics used in the assessment of recommendation systems.**\n",
    "\n",
    "**Precision** - It is the fraction of recommended movies that are relevant in top k predictions. Value of k is the number of recommendations to be provided to the user. One can choose a variable number of recommendations to be given to a unique user.  \n",
    "\n",
    "**Recall** - It is the fraction of relevant movies that are recommended to the user in top k predictions.\n",
    "\n",
    "**F1-Score** - It is the mean of Precision@k and Recall@k. When precision@k and recall@k both seem to be important, then it is useful to use this metric because it is representative of both of them."
   ]
  },
  {
   "cell_type": "code",
   "execution_count": 35,
   "id": "ffb4dc88-8841-4391-9680-7d8c090b938e",
   "metadata": {},
   "outputs": [],
   "source": [
    "# Importing dictionary subclass to avoid raising errors for nonexistent keys\n",
    "from collections import defaultdict\n",
    "\n",
    "# Importing to load datasets, parse file containing ratings, and calculate the accuracy of models\n",
    "from surprise import accuracy\n",
    "from surprise.reader import Reader\n",
    "from surprise.dataset import Dataset\n",
    "\n",
    "# Importing KNN for similarity based recommendations, GridSearchCV for tuning model hyperparameters, train_test_split to split dataset into training and testing sets, and SVD for matrix factorization\n",
    "from surprise.model_selection import GridSearchCV, train_test_split\n",
    "from surprise.prediction_algorithms.knns import KNNBasic\n",
    "from surprise.prediction_algorithms.matrix_factorization import SVD"
   ]
  },
  {
   "cell_type": "code",
   "execution_count": 36,
   "id": "cdd288ab-421c-4293-a7b4-473e6332775d",
   "metadata": {},
   "outputs": [],
   "source": [
    "# Creating function to calculate precision and recall at top k predictions and minimum rating of 2 for a given model\n",
    "def precision_recall_at_k(model, k = 10, threshold = 3):\n",
    "    # Mapping predictions to users\n",
    "    user_est_true = defaultdict(list)\n",
    "\n",
    "    # Making predictions on test data\n",
    "    predictions = model.test(testset)\n",
    "\n",
    "    for uid, _, true_r, est, _ in predictions:\n",
    "        user_est_true[uid].append((est, true_r))\n",
    "\n",
    "    # Calculating precision and recall\n",
    "    precisions = dict()\n",
    "    recalls = dict()\n",
    "\n",
    "    for uid, user_ratings in user_est_true.items():\n",
    "        # Sort user ratings by estimated value\n",
    "        user_ratings.sort(key = lambda x: x[0], reverse = True)\n",
    "\n",
    "        # Number of relevant items\n",
    "        n_rel = sum((true_r >= threshold) for (_, true_r) in user_ratings)\n",
    "\n",
    "        # Number of recommended movies in top k\n",
    "        n_rec_k = sum((est >= threshold) for (est, _) in user_ratings[:k])\n",
    "\n",
    "        # Number of relevant and recommended items in top k\n",
    "        n_rel_and_rec_k = sum(((true_r >= threshold) and (est >= threshold)) for (est, true_r) in user_ratings[:k])\n",
    "\n",
    "        # Precision: Proportion of recommended items that are relevant\n",
    "        # When n_rec_k is 0, Precision is undefined so we set Precision to 0 when n_rec_k is 0\n",
    "        precisions[uid] = n_rel_and_rec_k / n_rec_k if n_rec_k != 0 else 0 \n",
    "\n",
    "        # Recall: Proportion of relevant items that are recommended\n",
    "        # When n_rel is 0, Recall is undefined so we set Recall to 0 when n_rel is 0\n",
    "        recalls[uid] = n_rel_and_rec_k / n_rel if n_rel != 0 else 0\n",
    "\n",
    "    # Calculate mean of all predicted precisions\n",
    "    precision = round((sum(prec for prec in precisions.values()) / len(precisions)), 3)\n",
    "\n",
    "    # Calculate mean of all predicted recalls\n",
    "    recall = round((sum(rec for rec in recalls.values()) / len(recalls)), 3)\n",
    "\n",
    "    # Calculate and show accuracy of model\n",
    "    accuracy.rmse(predictions)\n",
    "\n",
    "    # Print overall precision, recall, and F-1 score\n",
    "    print('Precision: ', precision)\n",
    "    print('Recall: ', recall)\n",
    "    print('F_1 Score: ', round((2 * precision * recall) / (precision + recall), 3))"
   ]
  },
  {
   "cell_type": "code",
   "execution_count": 37,
   "id": "be6e4bb1-7960-4270-ac75-51e0d7fd4d36",
   "metadata": {},
   "outputs": [],
   "source": [
    "# Instantiating Reader scale with expected rating scale\n",
    "reader = Reader(rating_scale = (1, 5))\n",
    "\n",
    "# Loading dataset\n",
    "_data = Dataset.load_from_df(df[['CustId', 'MovieId', 'Rating']], reader)\n",
    "\n",
    "# Splitting data into training and testing sets\n",
    "trainset, testset = train_test_split(_data, test_size = 0.4, random_state = 42)"
   ]
  },
  {
   "cell_type": "markdown",
   "id": "77ebd49e-923b-48ac-821e-f3aa4e135409",
   "metadata": {},
   "source": [
    "Now we will build our similarity based recommendation system, but as we do, we will keep in mind that we would like to optimize both precision and recall as Netflix would like to recommend relevant movies and have relevant movies be recommended. "
   ]
  },
  {
   "cell_type": "code",
   "execution_count": 38,
   "id": "a430ebfc-d4d0-4667-91a6-4ac421701157",
   "metadata": {},
   "outputs": [
    {
     "name": "stdout",
     "output_type": "stream",
     "text": [
      "RMSE: 0.9883\n",
      "Precision:  0.983\n",
      "Recall:  0.181\n",
      "F_1 Score:  0.306\n"
     ]
    }
   ],
   "source": [
    "# Setting basic model parameters for KNN \n",
    "sim_options = {'name': 'cosine', 'user_based': True}\n",
    "\n",
    "# Applying parameters above to KNN for user similarity based recommendations   \n",
    "algo_knn_user = KNNBasic(sim_options = sim_options, verbose = False)\n",
    "\n",
    "# Training algorithm to fit the training set\n",
    "algo_knn_user.fit(trainset)\n",
    "\n",
    "# Calculating presicion, recall, and F-1 score from function built at k = 15\n",
    "precision_recall_at_k(algo_knn_user)"
   ]
  },
  {
   "cell_type": "markdown",
   "id": "41c22758-73e8-49e5-a089-2608458489e6",
   "metadata": {},
   "source": [
    "- We have calculated RMSE to check how far the overall predicted ratings are from the actual ratings. Our RMSE is 0.99, which means our model is at a standard RMSE and acceptable. \n",
    "- Intuition of Recall - We are getting a recall of almost 0.18, which means out of all the relevant movies, 18% are recommended.\n",
    "- Intuition of Precision - We are getting a precision of almost 0.98, which means out of all the recommended movies, 98% are relevant.\n",
    "- Here the F_1 score of the baseline model is almost 0.306. It indicates mostly that not all recommended movies were relevant and not all relevant movies were recommended.\n",
    "\n",
    "We will try to improve precision, recall, and F_1 score by using GridSearchCV and tuning the hyperparameters of this algorithm."
   ]
  },
  {
   "cell_type": "code",
   "execution_count": 39,
   "id": "b2d510b8-dd8b-4e9a-a83b-a0c43f4e311f",
   "metadata": {},
   "outputs": [
    {
     "name": "stdout",
     "output_type": "stream",
     "text": [
      "user: 7314       item: 137        r_ui = 4.00   est = 3.80   {'actual_k': 40, 'was_impossible': False}\n"
     ]
    },
    {
     "data": {
      "text/plain": [
       "Prediction(uid=7314, iid=137, r_ui=4, est=3.7998032247645255, details={'actual_k': 40, 'was_impossible': False})"
      ]
     },
     "execution_count": 39,
     "metadata": {},
     "output_type": "execute_result"
    }
   ],
   "source": [
    "# Predicting rating for CustId = 7314 and MovieId = 137 (user has already rated the movie \"Bad Boys II\" 4 stars)  \n",
    "algo_knn_user.predict(7314, 137, r_ui = 4, verbose = True)"
   ]
  },
  {
   "cell_type": "markdown",
   "id": "e782961c-5c43-47d7-8d25-599f95ac0988",
   "metadata": {},
   "source": [
    "We observe that the actual rating for this user and movie is 4 and the predicted rating is 3.80 by the model which is a good rating as it is quite close to the actual rating. "
   ]
  },
  {
   "cell_type": "code",
   "execution_count": 40,
   "id": "4e775784-c376-4a10-a10c-7e4683ce3b95",
   "metadata": {},
   "outputs": [
    {
     "name": "stdout",
     "output_type": "stream",
     "text": [
      "user: 7314       item: 27         r_ui = None   est = 3.55   {'actual_k': 40, 'was_impossible': False}\n"
     ]
    },
    {
     "data": {
      "text/plain": [
       "Prediction(uid=7314, iid=27, r_ui=None, est=3.5491519785408805, details={'actual_k': 40, 'was_impossible': False})"
      ]
     },
     "execution_count": 40,
     "metadata": {},
     "output_type": "execute_result"
    }
   ],
   "source": [
    "# Predicting rating for CustId = 7314 and MovieId = 27 (Rush Hour 2 is a similar movie to 137 and user has not rated it yet) \n",
    "algo_knn_user.predict(7314, 27, verbose = True)"
   ]
  },
  {
   "cell_type": "markdown",
   "id": "8a2d80d2-a2bb-40b6-837f-1d7360a3c0ba",
   "metadata": {},
   "source": [
    "We predict the rating for the same user, but a movie that they haven't seen and is similar (subjectively), we see that model predicts 3.55 rating which seems to be good if the movies were to be similar."
   ]
  },
  {
   "cell_type": "markdown",
   "id": "da0d2840-cdc0-4553-bd3f-5949938b64d6",
   "metadata": {},
   "source": [
    "# Improving Model With HyperParameter Tuning"
   ]
  },
  {
   "cell_type": "markdown",
   "id": "9b5c197d-5640-438d-aff2-133bc63e8c98",
   "metadata": {},
   "source": [
    "We will perform hyperparameter tuning for the baseline user based collaborative filtering recommendation system and find the RMSE for tuned user based collaborative filtering recommendation system"
   ]
  },
  {
   "cell_type": "code",
   "execution_count": 41,
   "id": "398a048a-c59c-41a0-91a2-e12c71eb79d9",
   "metadata": {},
   "outputs": [
    {
     "name": "stdout",
     "output_type": "stream",
     "text": [
      "0.9026119671870619\n",
      "{'k': 30, 'min_k': 3, 'sim_options': {'name': 'msd', 'user_based': True}}\n"
     ]
    }
   ],
   "source": [
    "# Setting up parameter grid to tune the hyperparameters\n",
    "param_grid = {'k': [20, 30], 'min_k': [3, 6], 'sim_options': {'name': ['msd', 'cosine'], 'user_based': [True]}}\n",
    "\n",
    "# Performing 3-fold cross validation to tune the hyperparameters\n",
    "gs = GridSearchCV(KNNBasic, param_grid, measures = ['rmse'], cv = 3, n_jobs = -1)\n",
    "\n",
    "# Fitting the data\n",
    "gs.fit(_data)\n",
    "\n",
    "# Printing best RMSE score and best combination of parameters leading to best RSME score \n",
    "print(gs.best_score['rmse'])\n",
    "print(gs.best_params['rmse'])"
   ]
  },
  {
   "cell_type": "markdown",
   "id": "636bd3a7-990e-40bd-a31b-0226ac92c4ae",
   "metadata": {},
   "source": [
    "RMSE significantly improves and we use the best hyperparameters to tune our model."
   ]
  },
  {
   "cell_type": "code",
   "execution_count": 42,
   "id": "42446848-29c4-4638-9e5d-b6a0d471c9d8",
   "metadata": {},
   "outputs": [
    {
     "name": "stdout",
     "output_type": "stream",
     "text": [
      "Computing the msd similarity matrix...\n",
      "Done computing similarity matrix.\n",
      "RMSE: 0.9095\n",
      "Precision:  0.983\n",
      "Recall:  0.181\n",
      "F_1 Score:  0.306\n"
     ]
    }
   ],
   "source": [
    "# Implementing best similarity measure from best parameters suggested above\n",
    "sim_options = {'name':  'msd', 'user_based': True}\n",
    "\n",
    "# Optimizing KNNBasic instance with optimal hyperparameter values \n",
    "algo_optimized_user = KNNBasic(sim_options = sim_options, k = 30, min_k = 3, verbose = True)\n",
    "\n",
    "# Training algorithm with training set\n",
    "algo_optimized_user.fit(trainset)\n",
    "\n",
    "# Calculating presicion, recall, and F-1 score from function built at k = 25 and optimized algorithm\n",
    "precision_recall_at_k(algo_optimized_user)"
   ]
  },
  {
   "cell_type": "markdown",
   "id": "5a1c6a0d-0b11-4e82-98de-761f160437f1",
   "metadata": {},
   "source": [
    "- After tuning hyperparameters, RMSE for the test set has reduced from .99 to .91, which means the model is better fitted.\n",
    "- We can observe that after tuning the hyperparameters, the tuned model's F-1 score did not change from the baseline model. We can't say that the model's performance has improved significantly after hyperparameter tuning, however, more tuning can be done with more computational power. "
   ]
  },
  {
   "cell_type": "code",
   "execution_count": 43,
   "id": "f242725f-f85f-4d10-8680-b44eb6d95576",
   "metadata": {},
   "outputs": [
    {
     "name": "stdout",
     "output_type": "stream",
     "text": [
      "user: 7314       item: 137        r_ui = 4.00   est = 3.71   {'actual_k': 30, 'was_impossible': False}\n"
     ]
    },
    {
     "data": {
      "text/plain": [
       "Prediction(uid=7314, iid=137, r_ui=4, est=3.7143604769587424, details={'actual_k': 30, 'was_impossible': False})"
      ]
     },
     "execution_count": 43,
     "metadata": {},
     "output_type": "execute_result"
    }
   ],
   "source": [
    "# Predicting rating for CustId = 7314 and MovieId = 137 using optimized algorithm (user has already rated the movie \"Bad Boys II\" 4 stars)\n",
    "algo_optimized_user.predict(7314, 137, r_ui = 4, verbose = True)"
   ]
  },
  {
   "cell_type": "markdown",
   "id": "d07cfa14-a651-46a9-8430-8c9a35bc6ab1",
   "metadata": {},
   "source": [
    "With the optimized model, we observe that the actual rating for this user and movie is 4 and the predicted rating is 3.71 by the model, which means it has decreased from the previous model. This is an acceptable rating, but brings concern to the model as the predicted rating is less than that of the previous model and further from the actual rating. "
   ]
  },
  {
   "cell_type": "code",
   "execution_count": 44,
   "id": "12336ccf-e3e8-4985-8266-afceca39fc42",
   "metadata": {},
   "outputs": [
    {
     "name": "stdout",
     "output_type": "stream",
     "text": [
      "user: 7314       item: 27         r_ui = None   est = 3.25   {'actual_k': 30, 'was_impossible': False}\n"
     ]
    },
    {
     "data": {
      "text/plain": [
       "Prediction(uid=7314, iid=27, r_ui=None, est=3.2474694654760885, details={'actual_k': 30, 'was_impossible': False})"
      ]
     },
     "execution_count": 44,
     "metadata": {},
     "output_type": "execute_result"
    }
   ],
   "source": [
    "# Predicting rating for CustId = 7314 and MovieId = 27 using optimized algorithm (Rush Hour 2 is a similar movie to 137 and user has not rated it yet) \n",
    "algo_optimized_user.predict(7314, 27, verbose = True)"
   ]
  },
  {
   "cell_type": "markdown",
   "id": "f38236ee-29b7-44af-8bd7-c71c387cd2b6",
   "metadata": {},
   "source": [
    "With the optimized model, we predict the rating for the same user and the same movie they haven't seen, and we see that the model predicts 3.25 rating, which is also less than the predicted rating of the previous model. \n",
    "\n",
    "Important to note these differences in the prediction as there is a possibility for data bias or underfitting and therefore would require further tuning of the model. However, due to the limited computational power, further tuning cannot be done here, but can be suggested to Netflix to improve the model. "
   ]
  },
  {
   "cell_type": "code",
   "execution_count": 45,
   "id": "c68673be-279c-443c-94e4-7c6e00926ee1",
   "metadata": {},
   "outputs": [
    {
     "data": {
      "text/plain": [
       "[2, 48, 50, 61, 86]"
      ]
     },
     "execution_count": 45,
     "metadata": {},
     "output_type": "execute_result"
    }
   ],
   "source": [
    "# Computing similar users when given a user using its 5 nearest neighbors\n",
    "k_neighbors = algo_optimized_user.get_neighbors(7314, 5)\n",
    "k_neighbors"
   ]
  },
  {
   "cell_type": "code",
   "execution_count": 46,
   "id": "1be293b5-7fa1-4cee-8f3f-b633cd645615",
   "metadata": {},
   "outputs": [],
   "source": [
    "# Creating a function to implement user to user recommendation algorithm from above using optimized KNNBasic model (algo) for a specific dataset (data), user (user_id), and number of recommended movies asked for (top_n)     \n",
    "def get_recommendations(data, user_id, top_n, algo):\n",
    "    #List for recommendations\n",
    "    recommendations = []\n",
    "\n",
    "    # Creating user interaction matrix\n",
    "    user_item_interactions_matrix = data.pivot(index = 'CustId', columns = 'MovieId', values = 'Rating')\n",
    "\n",
    "    # Extracting movies user has not seen\n",
    "    non_interacted_movies = user_item_interactions_matrix.loc[user_id][user_item_interactions_matrix.loc[user_id].isnull()].index.tolist()\n",
    "\n",
    "    # Predicting the rating for every movie the user has not seen and adding it to the recommendations list\n",
    "    for movie_id in non_interacted_movies:\n",
    "\n",
    "        est = algo.predict(user_id, movie_id).est\n",
    "\n",
    "        recommendations.append((movie_id, est))\n",
    "\n",
    "    # Sorting the recommendations list\n",
    "    recommendations.sort(key = lambda x: x[1], reverse = True)\n",
    "\n",
    "    # Returning the top_n number of movies to recommend\n",
    "    return recommendations[:top_n]"
   ]
  },
  {
   "cell_type": "code",
   "execution_count": 47,
   "id": "e5b2c478-a013-4278-bd46-f86018e02dc4",
   "metadata": {},
   "outputs": [],
   "source": [
    "# Creating new dataframe with less columns for easier processing\n",
    "dataframe = df[['CustId', 'MovieId', 'Rating']]"
   ]
  },
  {
   "cell_type": "code",
   "execution_count": 48,
   "id": "dd0c5043-31d1-4a71-81de-1903896d119d",
   "metadata": {},
   "outputs": [
    {
     "data": {
      "text/html": [
       "<div>\n",
       "<style scoped>\n",
       "    .dataframe tbody tr th:only-of-type {\n",
       "        vertical-align: middle;\n",
       "    }\n",
       "\n",
       "    .dataframe tbody tr th {\n",
       "        vertical-align: top;\n",
       "    }\n",
       "\n",
       "    .dataframe thead th {\n",
       "        text-align: right;\n",
       "    }\n",
       "</style>\n",
       "<table border=\"1\" class=\"dataframe\">\n",
       "  <thead>\n",
       "    <tr style=\"text-align: right;\">\n",
       "      <th></th>\n",
       "      <th>MovieId</th>\n",
       "      <th>predicted_ratings</th>\n",
       "      <th>Date</th>\n",
       "      <th>ReleaseYear</th>\n",
       "      <th>MovieTitle</th>\n",
       "    </tr>\n",
       "  </thead>\n",
       "  <tbody>\n",
       "    <tr>\n",
       "      <th>0</th>\n",
       "      <td>290</td>\n",
       "      <td>4.903964</td>\n",
       "      <td>2005-09-28</td>\n",
       "      <td>2002.0</td>\n",
       "      <td>Lord of the Rings: The Two Towers: Extended Ed...</td>\n",
       "    </tr>\n",
       "    <tr>\n",
       "      <th>1</th>\n",
       "      <td>497</td>\n",
       "      <td>4.864042</td>\n",
       "      <td>2005-01-20</td>\n",
       "      <td>2001.0</td>\n",
       "      <td>Family Guy: Vol. 2: Season 3</td>\n",
       "    </tr>\n",
       "    <tr>\n",
       "      <th>2</th>\n",
       "      <td>294</td>\n",
       "      <td>4.709103</td>\n",
       "      <td>2005-09-26</td>\n",
       "      <td>2001.0</td>\n",
       "      <td>The Lord of the Rings: The Fellowship of the R...</td>\n",
       "    </tr>\n",
       "    <tr>\n",
       "      <th>3</th>\n",
       "      <td>341</td>\n",
       "      <td>4.671132</td>\n",
       "      <td>2005-08-08</td>\n",
       "      <td>2001.0</td>\n",
       "      <td>24: Season 1</td>\n",
       "    </tr>\n",
       "    <tr>\n",
       "      <th>4</th>\n",
       "      <td>573</td>\n",
       "      <td>4.614242</td>\n",
       "      <td>2005-09-26</td>\n",
       "      <td>2003.0</td>\n",
       "      <td>Lord of the Rings: The Return of the King: Ext...</td>\n",
       "    </tr>\n",
       "    <tr>\n",
       "      <th>5</th>\n",
       "      <td>587</td>\n",
       "      <td>4.602559</td>\n",
       "      <td>2005-12-27</td>\n",
       "      <td>2001.0</td>\n",
       "      <td>Band of Brothers</td>\n",
       "    </tr>\n",
       "    <tr>\n",
       "      <th>6</th>\n",
       "      <td>226</td>\n",
       "      <td>4.600351</td>\n",
       "      <td>2005-09-04</td>\n",
       "      <td>2001.0</td>\n",
       "      <td>The Sopranos: Season 3</td>\n",
       "    </tr>\n",
       "    <tr>\n",
       "      <th>7</th>\n",
       "      <td>609</td>\n",
       "      <td>4.600036</td>\n",
       "      <td>2005-08-11</td>\n",
       "      <td>2001.0</td>\n",
       "      <td>CSI: Season 2</td>\n",
       "    </tr>\n",
       "    <tr>\n",
       "      <th>8</th>\n",
       "      <td>68</td>\n",
       "      <td>4.535098</td>\n",
       "      <td>2005-10-11</td>\n",
       "      <td>2003.0</td>\n",
       "      <td>Pirates of the Caribbean: The Curse of the Bla...</td>\n",
       "    </tr>\n",
       "    <tr>\n",
       "      <th>9</th>\n",
       "      <td>603</td>\n",
       "      <td>4.526037</td>\n",
       "      <td>2005-06-27</td>\n",
       "      <td>2001.0</td>\n",
       "      <td>Friends: Season 8</td>\n",
       "    </tr>\n",
       "    <tr>\n",
       "      <th>10</th>\n",
       "      <td>646</td>\n",
       "      <td>4.517461</td>\n",
       "      <td>2004-05-24</td>\n",
       "      <td>2003.0</td>\n",
       "      <td>Sex and the City: Season 6: Part 1</td>\n",
       "    </tr>\n",
       "    <tr>\n",
       "      <th>11</th>\n",
       "      <td>664</td>\n",
       "      <td>4.516828</td>\n",
       "      <td>2005-08-08</td>\n",
       "      <td>2002.0</td>\n",
       "      <td>24: Season 2</td>\n",
       "    </tr>\n",
       "    <tr>\n",
       "      <th>12</th>\n",
       "      <td>387</td>\n",
       "      <td>4.505337</td>\n",
       "      <td>2005-06-27</td>\n",
       "      <td>2002.0</td>\n",
       "      <td>Friends: Season 9</td>\n",
       "    </tr>\n",
       "    <tr>\n",
       "      <th>13</th>\n",
       "      <td>342</td>\n",
       "      <td>4.472861</td>\n",
       "      <td>2005-08-11</td>\n",
       "      <td>2002.0</td>\n",
       "      <td>CSI: Season 3</td>\n",
       "    </tr>\n",
       "    <tr>\n",
       "      <th>14</th>\n",
       "      <td>561</td>\n",
       "      <td>4.466069</td>\n",
       "      <td>2005-01-09</td>\n",
       "      <td>2001.0</td>\n",
       "      <td>Shrek (Full-screen)</td>\n",
       "    </tr>\n",
       "    <tr>\n",
       "      <th>15</th>\n",
       "      <td>543</td>\n",
       "      <td>4.457166</td>\n",
       "      <td>2005-02-15</td>\n",
       "      <td>2003.0</td>\n",
       "      <td>Lord of the Rings: The Return of the King</td>\n",
       "    </tr>\n",
       "    <tr>\n",
       "      <th>16</th>\n",
       "      <td>499</td>\n",
       "      <td>4.440112</td>\n",
       "      <td>2005-01-13</td>\n",
       "      <td>2003.0</td>\n",
       "      <td>24: Season 3</td>\n",
       "    </tr>\n",
       "    <tr>\n",
       "      <th>17</th>\n",
       "      <td>472</td>\n",
       "      <td>4.436612</td>\n",
       "      <td>2005-12-22</td>\n",
       "      <td>2002.0</td>\n",
       "      <td>Sex and the City: Season 5</td>\n",
       "    </tr>\n",
       "    <tr>\n",
       "      <th>18</th>\n",
       "      <td>144</td>\n",
       "      <td>4.432282</td>\n",
       "      <td>2005-06-11</td>\n",
       "      <td>2004.0</td>\n",
       "      <td>The Motorcycle Diaries</td>\n",
       "    </tr>\n",
       "    <tr>\n",
       "      <th>19</th>\n",
       "      <td>55</td>\n",
       "      <td>4.423394</td>\n",
       "      <td>2005-11-07</td>\n",
       "      <td>2001.0</td>\n",
       "      <td>Alias: Season 1</td>\n",
       "    </tr>\n",
       "  </tbody>\n",
       "</table>\n",
       "</div>"
      ],
      "text/plain": [
       "    MovieId  predicted_ratings       Date  ReleaseYear  \\\n",
       "0       290           4.903964 2005-09-28       2002.0   \n",
       "1       497           4.864042 2005-01-20       2001.0   \n",
       "2       294           4.709103 2005-09-26       2001.0   \n",
       "3       341           4.671132 2005-08-08       2001.0   \n",
       "4       573           4.614242 2005-09-26       2003.0   \n",
       "5       587           4.602559 2005-12-27       2001.0   \n",
       "6       226           4.600351 2005-09-04       2001.0   \n",
       "7       609           4.600036 2005-08-11       2001.0   \n",
       "8        68           4.535098 2005-10-11       2003.0   \n",
       "9       603           4.526037 2005-06-27       2001.0   \n",
       "10      646           4.517461 2004-05-24       2003.0   \n",
       "11      664           4.516828 2005-08-08       2002.0   \n",
       "12      387           4.505337 2005-06-27       2002.0   \n",
       "13      342           4.472861 2005-08-11       2002.0   \n",
       "14      561           4.466069 2005-01-09       2001.0   \n",
       "15      543           4.457166 2005-02-15       2003.0   \n",
       "16      499           4.440112 2005-01-13       2003.0   \n",
       "17      472           4.436612 2005-12-22       2002.0   \n",
       "18      144           4.432282 2005-06-11       2004.0   \n",
       "19       55           4.423394 2005-11-07       2001.0   \n",
       "\n",
       "                                           MovieTitle  \n",
       "0   Lord of the Rings: The Two Towers: Extended Ed...  \n",
       "1                        Family Guy: Vol. 2: Season 3  \n",
       "2   The Lord of the Rings: The Fellowship of the R...  \n",
       "3                                        24: Season 1  \n",
       "4   Lord of the Rings: The Return of the King: Ext...  \n",
       "5                                    Band of Brothers  \n",
       "6                              The Sopranos: Season 3  \n",
       "7                                       CSI: Season 2  \n",
       "8   Pirates of the Caribbean: The Curse of the Bla...  \n",
       "9                                   Friends: Season 8  \n",
       "10                 Sex and the City: Season 6: Part 1  \n",
       "11                                       24: Season 2  \n",
       "12                                  Friends: Season 9  \n",
       "13                                      CSI: Season 3  \n",
       "14                                Shrek (Full-screen)  \n",
       "15          Lord of the Rings: The Return of the King  \n",
       "16                                       24: Season 3  \n",
       "17                         Sex and the City: Season 5  \n",
       "18                             The Motorcycle Diaries  \n",
       "19                                    Alias: Season 1  "
      ]
     },
     "execution_count": 48,
     "metadata": {},
     "output_type": "execute_result"
    }
   ],
   "source": [
    "# Using recommendations function above to get top 10 recommendations for user 6528\n",
    "recommendations  = get_recommendations(dataframe, 7314, 20, algo_optimized_user)\n",
    "\n",
    "# Creating dataframe for recommendations above\n",
    "pd.DataFrame(recommendations, columns = ['MovieId', 'predicted_ratings']).merge(df.drop(['CustId', 'Rating'], axis = 1).drop_duplicates(['MovieId']), on = 'MovieId', how = 'left')"
   ]
  },
  {
   "cell_type": "markdown",
   "id": "05f876c5-6c0d-4406-93b5-383d5536dd72",
   "metadata": {},
   "source": [
    "### Correcting the ratings for recommended movies"
   ]
  },
  {
   "cell_type": "markdown",
   "id": "2a4f92b0-bfaf-4b8d-8a61-f1f933e6af56",
   "metadata": {},
   "source": [
    "When comparing ratings of two movies, ratings are not the only measurement used to describe the likelihood of the user to that movie. The number of ratings a movie has is also important to consider. Therefore, we will subtract the inverse square root of the number of ratings a movie has to adjust the ratings and account for the number of ratings the movie has alongside its ratings. "
   ]
  },
  {
   "cell_type": "code",
   "execution_count": 49,
   "id": "22739176-41d1-4be0-b175-727a532108c0",
   "metadata": {},
   "outputs": [],
   "source": [
    "# Creating function to correct the ratings for recommended movies where we use the recommendation list (recs) and rank_rating data set that has number of ratings and averages\n",
    "def ranking_movies(recs, rank_rating):\n",
    "    # Selecting recommended movies in rank_rating dataset and sorting them by number of ratings movie has\n",
    "    ranked_movies = rank_rating.loc[[items[0] for items in recs]].sort_values('rating_count', ascending = False)[['rating_count']].reset_index()\n",
    "\n",
    "    # Merging recommended movies to dataset above to get predicted ratings\n",
    "    ranked_movies = ranked_movies.merge(pd.DataFrame(recs, columns = ['MovieId', 'predicted_ratings']), on = 'MovieId', how = 'inner')\n",
    "\n",
    "    # Correcting ratings by subtracting the inverse square root of the number of ratings a movie has\n",
    "    ranked_movies['corrected_ratings'] = ranked_movies['predicted_ratings'] - 1 / np.sqrt(ranked_movies['rating_count'])\n",
    "\n",
    "    # Resorting the movies based on new ratings\n",
    "    ranked_movies = ranked_movies.sort_values('corrected_ratings', ascending = False)\n",
    "\n",
    "    return ranked_movies"
   ]
  },
  {
   "cell_type": "code",
   "execution_count": 50,
   "id": "81478de3-9948-4739-a80a-34101d90a514",
   "metadata": {},
   "outputs": [
    {
     "data": {
      "text/html": [
       "<div>\n",
       "<style scoped>\n",
       "    .dataframe tbody tr th:only-of-type {\n",
       "        vertical-align: middle;\n",
       "    }\n",
       "\n",
       "    .dataframe tbody tr th {\n",
       "        vertical-align: top;\n",
       "    }\n",
       "\n",
       "    .dataframe thead th {\n",
       "        text-align: right;\n",
       "    }\n",
       "</style>\n",
       "<table border=\"1\" class=\"dataframe\">\n",
       "  <thead>\n",
       "    <tr style=\"text-align: right;\">\n",
       "      <th></th>\n",
       "      <th>MovieId</th>\n",
       "      <th>rating_count</th>\n",
       "      <th>predicted_ratings</th>\n",
       "      <th>corrected_ratings</th>\n",
       "      <th>Date</th>\n",
       "      <th>ReleaseYear</th>\n",
       "      <th>MovieTitle</th>\n",
       "    </tr>\n",
       "  </thead>\n",
       "  <tbody>\n",
       "    <tr>\n",
       "      <th>0</th>\n",
       "      <td>290</td>\n",
       "      <td>2786</td>\n",
       "      <td>4.903964</td>\n",
       "      <td>4.885019</td>\n",
       "      <td>2005-09-28</td>\n",
       "      <td>2002.0</td>\n",
       "      <td>Lord of the Rings: The Two Towers: Extended Ed...</td>\n",
       "    </tr>\n",
       "    <tr>\n",
       "      <th>1</th>\n",
       "      <td>497</td>\n",
       "      <td>799</td>\n",
       "      <td>4.864042</td>\n",
       "      <td>4.828664</td>\n",
       "      <td>2005-01-20</td>\n",
       "      <td>2001.0</td>\n",
       "      <td>Family Guy: Vol. 2: Season 3</td>\n",
       "    </tr>\n",
       "    <tr>\n",
       "      <th>2</th>\n",
       "      <td>294</td>\n",
       "      <td>2783</td>\n",
       "      <td>4.709103</td>\n",
       "      <td>4.690147</td>\n",
       "      <td>2005-09-26</td>\n",
       "      <td>2001.0</td>\n",
       "      <td>The Lord of the Rings: The Fellowship of the R...</td>\n",
       "    </tr>\n",
       "    <tr>\n",
       "      <th>3</th>\n",
       "      <td>341</td>\n",
       "      <td>1049</td>\n",
       "      <td>4.671132</td>\n",
       "      <td>4.640257</td>\n",
       "      <td>2005-08-08</td>\n",
       "      <td>2001.0</td>\n",
       "      <td>24: Season 1</td>\n",
       "    </tr>\n",
       "    <tr>\n",
       "      <th>4</th>\n",
       "      <td>573</td>\n",
       "      <td>2777</td>\n",
       "      <td>4.614242</td>\n",
       "      <td>4.595266</td>\n",
       "      <td>2005-09-26</td>\n",
       "      <td>2003.0</td>\n",
       "      <td>Lord of the Rings: The Return of the King: Ext...</td>\n",
       "    </tr>\n",
       "    <tr>\n",
       "      <th>5</th>\n",
       "      <td>587</td>\n",
       "      <td>1341</td>\n",
       "      <td>4.602559</td>\n",
       "      <td>4.575252</td>\n",
       "      <td>2005-12-27</td>\n",
       "      <td>2001.0</td>\n",
       "      <td>Band of Brothers</td>\n",
       "    </tr>\n",
       "    <tr>\n",
       "      <th>6</th>\n",
       "      <td>226</td>\n",
       "      <td>1320</td>\n",
       "      <td>4.600351</td>\n",
       "      <td>4.572827</td>\n",
       "      <td>2005-09-04</td>\n",
       "      <td>2001.0</td>\n",
       "      <td>The Sopranos: Season 3</td>\n",
       "    </tr>\n",
       "    <tr>\n",
       "      <th>7</th>\n",
       "      <td>609</td>\n",
       "      <td>555</td>\n",
       "      <td>4.600036</td>\n",
       "      <td>4.557589</td>\n",
       "      <td>2005-08-11</td>\n",
       "      <td>2001.0</td>\n",
       "      <td>CSI: Season 2</td>\n",
       "    </tr>\n",
       "    <tr>\n",
       "      <th>8</th>\n",
       "      <td>68</td>\n",
       "      <td>5899</td>\n",
       "      <td>4.535098</td>\n",
       "      <td>4.522078</td>\n",
       "      <td>2005-10-11</td>\n",
       "      <td>2003.0</td>\n",
       "      <td>Pirates of the Caribbean: The Curse of the Bla...</td>\n",
       "    </tr>\n",
       "    <tr>\n",
       "      <th>9</th>\n",
       "      <td>646</td>\n",
       "      <td>1145</td>\n",
       "      <td>4.517461</td>\n",
       "      <td>4.487908</td>\n",
       "      <td>2004-05-24</td>\n",
       "      <td>2003.0</td>\n",
       "      <td>Sex and the City: Season 6: Part 1</td>\n",
       "    </tr>\n",
       "    <tr>\n",
       "      <th>10</th>\n",
       "      <td>603</td>\n",
       "      <td>684</td>\n",
       "      <td>4.526037</td>\n",
       "      <td>4.487801</td>\n",
       "      <td>2005-06-27</td>\n",
       "      <td>2001.0</td>\n",
       "      <td>Friends: Season 8</td>\n",
       "    </tr>\n",
       "    <tr>\n",
       "      <th>11</th>\n",
       "      <td>664</td>\n",
       "      <td>840</td>\n",
       "      <td>4.516828</td>\n",
       "      <td>4.482325</td>\n",
       "      <td>2005-08-08</td>\n",
       "      <td>2002.0</td>\n",
       "      <td>24: Season 2</td>\n",
       "    </tr>\n",
       "    <tr>\n",
       "      <th>12</th>\n",
       "      <td>387</td>\n",
       "      <td>572</td>\n",
       "      <td>4.505337</td>\n",
       "      <td>4.463524</td>\n",
       "      <td>2005-06-27</td>\n",
       "      <td>2002.0</td>\n",
       "      <td>Friends: Season 9</td>\n",
       "    </tr>\n",
       "    <tr>\n",
       "      <th>13</th>\n",
       "      <td>561</td>\n",
       "      <td>4281</td>\n",
       "      <td>4.466069</td>\n",
       "      <td>4.450786</td>\n",
       "      <td>2005-01-09</td>\n",
       "      <td>2001.0</td>\n",
       "      <td>Shrek (Full-screen)</td>\n",
       "    </tr>\n",
       "    <tr>\n",
       "      <th>14</th>\n",
       "      <td>543</td>\n",
       "      <td>4620</td>\n",
       "      <td>4.457166</td>\n",
       "      <td>4.442454</td>\n",
       "      <td>2005-02-15</td>\n",
       "      <td>2003.0</td>\n",
       "      <td>Lord of the Rings: The Return of the King</td>\n",
       "    </tr>\n",
       "    <tr>\n",
       "      <th>15</th>\n",
       "      <td>342</td>\n",
       "      <td>501</td>\n",
       "      <td>4.472861</td>\n",
       "      <td>4.428185</td>\n",
       "      <td>2005-08-11</td>\n",
       "      <td>2002.0</td>\n",
       "      <td>CSI: Season 3</td>\n",
       "    </tr>\n",
       "    <tr>\n",
       "      <th>16</th>\n",
       "      <td>472</td>\n",
       "      <td>1135</td>\n",
       "      <td>4.436612</td>\n",
       "      <td>4.406929</td>\n",
       "      <td>2005-12-22</td>\n",
       "      <td>2002.0</td>\n",
       "      <td>Sex and the City: Season 5</td>\n",
       "    </tr>\n",
       "    <tr>\n",
       "      <th>17</th>\n",
       "      <td>499</td>\n",
       "      <td>630</td>\n",
       "      <td>4.440112</td>\n",
       "      <td>4.400271</td>\n",
       "      <td>2005-01-13</td>\n",
       "      <td>2003.0</td>\n",
       "      <td>24: Season 3</td>\n",
       "    </tr>\n",
       "    <tr>\n",
       "      <th>18</th>\n",
       "      <td>144</td>\n",
       "      <td>929</td>\n",
       "      <td>4.432282</td>\n",
       "      <td>4.399474</td>\n",
       "      <td>2005-06-11</td>\n",
       "      <td>2004.0</td>\n",
       "      <td>The Motorcycle Diaries</td>\n",
       "    </tr>\n",
       "    <tr>\n",
       "      <th>19</th>\n",
       "      <td>55</td>\n",
       "      <td>594</td>\n",
       "      <td>4.423394</td>\n",
       "      <td>4.382363</td>\n",
       "      <td>2005-11-07</td>\n",
       "      <td>2001.0</td>\n",
       "      <td>Alias: Season 1</td>\n",
       "    </tr>\n",
       "  </tbody>\n",
       "</table>\n",
       "</div>"
      ],
      "text/plain": [
       "    MovieId  rating_count  predicted_ratings  corrected_ratings       Date  \\\n",
       "0       290          2786           4.903964           4.885019 2005-09-28   \n",
       "1       497           799           4.864042           4.828664 2005-01-20   \n",
       "2       294          2783           4.709103           4.690147 2005-09-26   \n",
       "3       341          1049           4.671132           4.640257 2005-08-08   \n",
       "4       573          2777           4.614242           4.595266 2005-09-26   \n",
       "5       587          1341           4.602559           4.575252 2005-12-27   \n",
       "6       226          1320           4.600351           4.572827 2005-09-04   \n",
       "7       609           555           4.600036           4.557589 2005-08-11   \n",
       "8        68          5899           4.535098           4.522078 2005-10-11   \n",
       "9       646          1145           4.517461           4.487908 2004-05-24   \n",
       "10      603           684           4.526037           4.487801 2005-06-27   \n",
       "11      664           840           4.516828           4.482325 2005-08-08   \n",
       "12      387           572           4.505337           4.463524 2005-06-27   \n",
       "13      561          4281           4.466069           4.450786 2005-01-09   \n",
       "14      543          4620           4.457166           4.442454 2005-02-15   \n",
       "15      342           501           4.472861           4.428185 2005-08-11   \n",
       "16      472          1135           4.436612           4.406929 2005-12-22   \n",
       "17      499           630           4.440112           4.400271 2005-01-13   \n",
       "18      144           929           4.432282           4.399474 2005-06-11   \n",
       "19       55           594           4.423394           4.382363 2005-11-07   \n",
       "\n",
       "    ReleaseYear                                         MovieTitle  \n",
       "0        2002.0  Lord of the Rings: The Two Towers: Extended Ed...  \n",
       "1        2001.0                       Family Guy: Vol. 2: Season 3  \n",
       "2        2001.0  The Lord of the Rings: The Fellowship of the R...  \n",
       "3        2001.0                                       24: Season 1  \n",
       "4        2003.0  Lord of the Rings: The Return of the King: Ext...  \n",
       "5        2001.0                                   Band of Brothers  \n",
       "6        2001.0                             The Sopranos: Season 3  \n",
       "7        2001.0                                      CSI: Season 2  \n",
       "8        2003.0  Pirates of the Caribbean: The Curse of the Bla...  \n",
       "9        2003.0                 Sex and the City: Season 6: Part 1  \n",
       "10       2001.0                                  Friends: Season 8  \n",
       "11       2002.0                                       24: Season 2  \n",
       "12       2002.0                                  Friends: Season 9  \n",
       "13       2001.0                                Shrek (Full-screen)  \n",
       "14       2003.0          Lord of the Rings: The Return of the King  \n",
       "15       2002.0                                      CSI: Season 3  \n",
       "16       2002.0                         Sex and the City: Season 5  \n",
       "17       2003.0                                       24: Season 3  \n",
       "18       2004.0                             The Motorcycle Diaries  \n",
       "19       2001.0                                    Alias: Season 1  "
      ]
     },
     "execution_count": 50,
     "metadata": {},
     "output_type": "execute_result"
    }
   ],
   "source": [
    "# Applying function above to get new list of recommended movies and merging original data frame to see full view of movies listed\n",
    "ranking_movies(recommendations, rank_rating).merge(df.drop(['CustId', 'Rating'], axis = 1).drop_duplicates(['MovieId']), on = 'MovieId', how = 'left')"
   ]
  },
  {
   "cell_type": "markdown",
   "id": "a0debe38-1489-4a26-9c41-850af0f0b76e",
   "metadata": {},
   "source": [
    "We can see that after the correction, the order of the movies slightly changed."
   ]
  },
  {
   "cell_type": "markdown",
   "id": "182cfdae-d803-4ad3-8200-1d2952862d30",
   "metadata": {},
   "source": [
    "# Model 3: Item Based Collaborative Filtering Recommendation System"
   ]
  },
  {
   "cell_type": "markdown",
   "id": "a11bf67a-b6b9-4e67-a060-ed072aa21b01",
   "metadata": {},
   "source": [
    "Above we have seen user based collaborative filtering where similarity is seen between users. Now let us look into item based collaborative filtering where similarity is seen between movies."
   ]
  },
  {
   "cell_type": "code",
   "execution_count": 51,
   "id": "b6a10d77-5808-442c-bc4e-6000a4daeda0",
   "metadata": {},
   "outputs": [
    {
     "name": "stdout",
     "output_type": "stream",
     "text": [
      "RMSE: 0.9677\n",
      "Precision:  0.982\n",
      "Recall:  0.181\n",
      "F_1 Score:  0.306\n"
     ]
    }
   ],
   "source": [
    "# Setting basic model parameters for KNN \n",
    "sim_options = {'name': 'cosine', 'user_based': False}\n",
    "\n",
    "# Applying parameters above to KNN for user similarity based recommendations\n",
    "algo_knn_item = KNNBasic(sim_options = sim_options, verbose = False)\n",
    "\n",
    "# Training algorithm to fit the training set\n",
    "algo_knn_item.fit(trainset)\n",
    "\n",
    "# Calculating presicion, recall, and F-1 score from function built at k = 15\n",
    "precision_recall_at_k(algo_knn_item)"
   ]
  },
  {
   "cell_type": "markdown",
   "id": "285ef4c3-7f53-42b0-9038-496238985ca6",
   "metadata": {},
   "source": [
    "- Our RMSE is higher than our user-based recommendation system at 0.97, and we can say our model is at a standard RMSE and acceptable. \n",
    "- Here our F_1 score of the baseline model is 0.306, which is the same as the user-based recommendation system. It indicates mostly that not all recommended movies were relevant and not all relevant movies were recommended.\n",
    "\n",
    "We will try to improve our F_1 score by using GridSearchCV and tuning the hyperparameters of this algorithm."
   ]
  },
  {
   "cell_type": "code",
   "execution_count": 52,
   "id": "15e663dc-49bd-4e53-aa52-792ab5150f71",
   "metadata": {},
   "outputs": [
    {
     "name": "stdout",
     "output_type": "stream",
     "text": [
      "user: 7314       item: 137        r_ui = 4.00   est = 3.53   {'actual_k': 40, 'was_impossible': False}\n"
     ]
    },
    {
     "data": {
      "text/plain": [
       "Prediction(uid=7314, iid=137, r_ui=4, est=3.525332612381202, details={'actual_k': 40, 'was_impossible': False})"
      ]
     },
     "execution_count": 52,
     "metadata": {},
     "output_type": "execute_result"
    }
   ],
   "source": [
    "# Predicting rating for CustId = 7314 and MovieId = 137 (user has already rated the movie \"Bad Boys II\" 4 stars) \n",
    "algo_knn_item.predict(7314, 137, r_ui = 4, verbose = True)"
   ]
  },
  {
   "cell_type": "code",
   "execution_count": 53,
   "id": "806f7917-7293-4e6a-bfdc-7756117db4aa",
   "metadata": {},
   "outputs": [
    {
     "name": "stdout",
     "output_type": "stream",
     "text": [
      "user: 7314       item: 27         r_ui = None   est = 3.45   {'actual_k': 40, 'was_impossible': False}\n"
     ]
    },
    {
     "data": {
      "text/plain": [
       "Prediction(uid=7314, iid=27, r_ui=None, est=3.450109894106149, details={'actual_k': 40, 'was_impossible': False})"
      ]
     },
     "execution_count": 53,
     "metadata": {},
     "output_type": "execute_result"
    }
   ],
   "source": [
    "# Predicting rating for CustId = 7314 and MovieId = 27 (Rush Hour 2 is a similar movie to 137 and user has not rated it yet)\n",
    "algo_knn_item.predict(7314, 27, verbose = True)"
   ]
  },
  {
   "cell_type": "markdown",
   "id": "e284020b-c98c-41a4-b20a-da99fbe95660",
   "metadata": {},
   "source": [
    "We observe that the model predicts movie 137 and 27 for user 7314 is an even lower rating than the user based recommendation system. "
   ]
  },
  {
   "cell_type": "code",
   "execution_count": 54,
   "id": "d17c9dd7-55d2-4147-940a-c8525cd151fe",
   "metadata": {
    "scrolled": true
   },
   "outputs": [
    {
     "name": "stdout",
     "output_type": "stream",
     "text": [
      "Computing the msd similarity matrix...\n",
      "Done computing similarity matrix.\n",
      "Computing the msd similarity matrix...\n",
      "Done computing similarity matrix.\n",
      "Computing the msd similarity matrix...\n",
      "Done computing similarity matrix.\n",
      "Computing the cosine similarity matrix...\n",
      "Done computing similarity matrix.\n",
      "Computing the cosine similarity matrix...\n",
      "Done computing similarity matrix.\n",
      "Computing the cosine similarity matrix...\n",
      "Done computing similarity matrix.\n",
      "Computing the msd similarity matrix...\n",
      "Done computing similarity matrix.\n",
      "Computing the msd similarity matrix...\n",
      "Done computing similarity matrix.\n",
      "Computing the msd similarity matrix...\n",
      "Done computing similarity matrix.\n",
      "Computing the cosine similarity matrix...\n",
      "Done computing similarity matrix.\n",
      "Computing the cosine similarity matrix...\n",
      "Done computing similarity matrix.\n",
      "Computing the cosine similarity matrix...\n",
      "Done computing similarity matrix.\n",
      "Computing the msd similarity matrix...\n",
      "Done computing similarity matrix.\n",
      "Computing the msd similarity matrix...\n",
      "Done computing similarity matrix.\n",
      "Computing the msd similarity matrix...\n",
      "Done computing similarity matrix.\n",
      "Computing the cosine similarity matrix...\n",
      "Done computing similarity matrix.\n",
      "Computing the cosine similarity matrix...\n",
      "Done computing similarity matrix.\n",
      "Computing the cosine similarity matrix...\n",
      "Done computing similarity matrix.\n",
      "Computing the msd similarity matrix...\n",
      "Done computing similarity matrix.\n",
      "Computing the msd similarity matrix...\n",
      "Done computing similarity matrix.\n",
      "Computing the msd similarity matrix...\n",
      "Done computing similarity matrix.\n",
      "Computing the cosine similarity matrix...\n",
      "Done computing similarity matrix.\n",
      "Computing the cosine similarity matrix...\n",
      "Done computing similarity matrix.\n",
      "Computing the cosine similarity matrix...\n",
      "Done computing similarity matrix.\n",
      "0.8812233019133506\n",
      "{'k': 20, 'min_k': 3, 'sim_options': {'name': 'msd', 'user_based': False}}\n"
     ]
    }
   ],
   "source": [
    "# Setting up parameter grid to tune the hyperparameters\n",
    "param_grid = {'k': [20, 30], 'min_k': [3, 6], 'sim_options': {'name': ['msd', 'cosine'], 'user_based': [False]}}\n",
    "\n",
    "# Performing 3-fold cross validation to tune the hyperparameters\n",
    "grid_obj = GridSearchCV(KNNBasic, param_grid, measures = ['rmse'], cv = 3)\n",
    "\n",
    "# Fitting the data\n",
    "grid_obj.fit(_data)\n",
    "\n",
    "# Printing best RMSE score and best combination of parameters leading to best RSME score\n",
    "print(grid_obj.best_score['rmse'])\n",
    "print(grid_obj.best_params['rmse'])"
   ]
  },
  {
   "cell_type": "markdown",
   "id": "8868f54c-cc95-49a4-ba4c-92e8233aabe8",
   "metadata": {},
   "source": [
    "RMSE significantly improves and we use the best hyperparameters to tune our model."
   ]
  },
  {
   "cell_type": "code",
   "execution_count": 55,
   "id": "890272e5-dc9f-48f8-a87e-84a833f5cb7d",
   "metadata": {},
   "outputs": [
    {
     "name": "stdout",
     "output_type": "stream",
     "text": [
      "RMSE: 0.8858\n",
      "Precision:  0.987\n",
      "Recall:  0.182\n",
      "F_1 Score:  0.307\n"
     ]
    }
   ],
   "source": [
    "# Implementing best similarity measure from best parameters suggested above\n",
    "sim_options = {'name': 'msd', 'user_based': False}\n",
    "\n",
    "# Optimizing KNNBasic instance with optimal hyperparameter values\n",
    "algo_optimized_item = KNNBasic(sim_options = sim_options, k = 20, min_k = 3, verbose = False)\n",
    "\n",
    "# Training algorithm with training set\n",
    "algo_optimized_item.fit(trainset)\n",
    "\n",
    "# Calculating presicion, recall, and F-1 score from function built at k = 30 and optimized algorithm\n",
    "precision_recall_at_k(algo_optimized_item)"
   ]
  },
  {
   "cell_type": "markdown",
   "id": "9cb8212d-770d-4184-8db4-5c96aa33f654",
   "metadata": {},
   "source": [
    "We see here that RMSE significantly improves and F_1 score also improves. The item based recommendation sytem is performing better than the user based recommendation system in terms of these metrics. "
   ]
  },
  {
   "cell_type": "code",
   "execution_count": 56,
   "id": "6a7fdd71-c82b-4930-9714-2066182baf2b",
   "metadata": {},
   "outputs": [
    {
     "name": "stdout",
     "output_type": "stream",
     "text": [
      "user: 7314       item: 137        r_ui = 4.00   est = 3.48   {'actual_k': 20, 'was_impossible': False}\n"
     ]
    },
    {
     "data": {
      "text/plain": [
       "Prediction(uid=7314, iid=137, r_ui=4, est=3.480175088170105, details={'actual_k': 20, 'was_impossible': False})"
      ]
     },
     "execution_count": 56,
     "metadata": {},
     "output_type": "execute_result"
    }
   ],
   "source": [
    "# Predicting rating for CustId = 7314 and MovieId = 137 using optimized algorithm (user has already rated the movie \"Bad Boys II\" 4 stars)\n",
    "algo_optimized_item.predict(7314, 137, r_ui = 4, verbose = True)"
   ]
  },
  {
   "cell_type": "code",
   "execution_count": 57,
   "id": "f51dd26c-60e2-4ef0-99aa-79ce5fbf8e74",
   "metadata": {},
   "outputs": [
    {
     "name": "stdout",
     "output_type": "stream",
     "text": [
      "user: 7314       item: 27         r_ui = None   est = 3.35   {'actual_k': 20, 'was_impossible': False}\n"
     ]
    },
    {
     "data": {
      "text/plain": [
       "Prediction(uid=7314, iid=27, r_ui=None, est=3.3484350876724553, details={'actual_k': 20, 'was_impossible': False})"
      ]
     },
     "execution_count": 57,
     "metadata": {},
     "output_type": "execute_result"
    }
   ],
   "source": [
    "# Predicting rating for CustId = 7314 and MovieId = 27 using optimized algorithm (Rush Hour 2 is a similar movie to 137 and user has not rated it yet) \n",
    "algo_optimized_item.predict(7314, 27, verbose = True)"
   ]
  },
  {
   "cell_type": "markdown",
   "id": "6650b726-13e2-4b2d-bdc6-30452f66ae44",
   "metadata": {},
   "source": [
    "However, even though the model was improved, we observe that the model predicts movies 137 and 27 for user 7314 is an even lower rating than the previous predictions. Raising the concern of  underfitting once again. Further tuning must be performed with more computational power as mentioned before. "
   ]
  },
  {
   "cell_type": "code",
   "execution_count": 59,
   "id": "e6711b8f-6753-4609-8bd6-4b1805b46b40",
   "metadata": {},
   "outputs": [
    {
     "data": {
      "text/plain": [
       "[265,\n",
       " 184,\n",
       " 102,\n",
       " 523,\n",
       " 481,\n",
       " 576,\n",
       " 378,\n",
       " 337,\n",
       " 611,\n",
       " 258,\n",
       " 419,\n",
       " 411,\n",
       " 458,\n",
       " 570,\n",
       " 339,\n",
       " 63,\n",
       " 549,\n",
       " 176,\n",
       " 377,\n",
       " 217,\n",
       " 299,\n",
       " 574,\n",
       " 143,\n",
       " 366,\n",
       " 132]"
      ]
     },
     "execution_count": 59,
     "metadata": {},
     "output_type": "execute_result"
    }
   ],
   "source": [
    "# Computing similar users when given a user using its nearest neighbors\n",
    "algo_optimized_item.get_neighbors(137, 25)"
   ]
  },
  {
   "cell_type": "code",
   "execution_count": 61,
   "id": "289b416d-aeae-4a71-a80c-e6b853bdb7bc",
   "metadata": {},
   "outputs": [
    {
     "data": {
      "text/html": [
       "<div>\n",
       "<style scoped>\n",
       "    .dataframe tbody tr th:only-of-type {\n",
       "        vertical-align: middle;\n",
       "    }\n",
       "\n",
       "    .dataframe tbody tr th {\n",
       "        vertical-align: top;\n",
       "    }\n",
       "\n",
       "    .dataframe thead th {\n",
       "        text-align: right;\n",
       "    }\n",
       "</style>\n",
       "<table border=\"1\" class=\"dataframe\">\n",
       "  <thead>\n",
       "    <tr style=\"text-align: right;\">\n",
       "      <th></th>\n",
       "      <th>MovieId</th>\n",
       "      <th>predicted_ratings</th>\n",
       "      <th>Date</th>\n",
       "      <th>ReleaseYear</th>\n",
       "      <th>MovieTitle</th>\n",
       "    </tr>\n",
       "  </thead>\n",
       "  <tbody>\n",
       "    <tr>\n",
       "      <th>0</th>\n",
       "      <td>499</td>\n",
       "      <td>4.107019</td>\n",
       "      <td>2005-01-13</td>\n",
       "      <td>2003.0</td>\n",
       "      <td>24: Season 3</td>\n",
       "    </tr>\n",
       "    <tr>\n",
       "      <th>1</th>\n",
       "      <td>46</td>\n",
       "      <td>4.102420</td>\n",
       "      <td>2005-10-19</td>\n",
       "      <td>2001.0</td>\n",
       "      <td>A Beautiful Mind</td>\n",
       "    </tr>\n",
       "    <tr>\n",
       "      <th>2</th>\n",
       "      <td>445</td>\n",
       "      <td>4.102376</td>\n",
       "      <td>2005-08-14</td>\n",
       "      <td>2002.0</td>\n",
       "      <td>Harry Potter and the Chamber of Secrets</td>\n",
       "    </tr>\n",
       "    <tr>\n",
       "      <th>3</th>\n",
       "      <td>196</td>\n",
       "      <td>4.099457</td>\n",
       "      <td>2004-07-13</td>\n",
       "      <td>2003.0</td>\n",
       "      <td>Seabiscuit</td>\n",
       "    </tr>\n",
       "    <tr>\n",
       "      <th>4</th>\n",
       "      <td>573</td>\n",
       "      <td>4.070008</td>\n",
       "      <td>2005-09-26</td>\n",
       "      <td>2003.0</td>\n",
       "      <td>Lord of the Rings: The Return of the King: Ext...</td>\n",
       "    </tr>\n",
       "    <tr>\n",
       "      <th>5</th>\n",
       "      <td>681</td>\n",
       "      <td>4.065383</td>\n",
       "      <td>2005-09-26</td>\n",
       "      <td>2002.0</td>\n",
       "      <td>E.T. the Extra-Terrestrial: The 20th Anniversa...</td>\n",
       "    </tr>\n",
       "    <tr>\n",
       "      <th>6</th>\n",
       "      <td>87</td>\n",
       "      <td>4.062188</td>\n",
       "      <td>2005-01-09</td>\n",
       "      <td>2001.0</td>\n",
       "      <td>Lord of the Rings: The Fellowship of the Ring</td>\n",
       "    </tr>\n",
       "    <tr>\n",
       "      <th>7</th>\n",
       "      <td>294</td>\n",
       "      <td>4.061111</td>\n",
       "      <td>2005-09-26</td>\n",
       "      <td>2001.0</td>\n",
       "      <td>The Lord of the Rings: The Fellowship of the R...</td>\n",
       "    </tr>\n",
       "    <tr>\n",
       "      <th>8</th>\n",
       "      <td>153</td>\n",
       "      <td>4.060180</td>\n",
       "      <td>2005-09-26</td>\n",
       "      <td>2003.0</td>\n",
       "      <td>Finding Nemo (Widescreen)</td>\n",
       "    </tr>\n",
       "    <tr>\n",
       "      <th>9</th>\n",
       "      <td>561</td>\n",
       "      <td>4.059469</td>\n",
       "      <td>2005-01-09</td>\n",
       "      <td>2001.0</td>\n",
       "      <td>Shrek (Full-screen)</td>\n",
       "    </tr>\n",
       "    <tr>\n",
       "      <th>10</th>\n",
       "      <td>446</td>\n",
       "      <td>4.057522</td>\n",
       "      <td>2005-01-09</td>\n",
       "      <td>2002.0</td>\n",
       "      <td>Lord of the Rings: The Two Towers</td>\n",
       "    </tr>\n",
       "    <tr>\n",
       "      <th>11</th>\n",
       "      <td>525</td>\n",
       "      <td>4.057286</td>\n",
       "      <td>2005-11-03</td>\n",
       "      <td>2000.0</td>\n",
       "      <td>Gladiator</td>\n",
       "    </tr>\n",
       "    <tr>\n",
       "      <th>12</th>\n",
       "      <td>244</td>\n",
       "      <td>4.057184</td>\n",
       "      <td>2005-09-26</td>\n",
       "      <td>2002.0</td>\n",
       "      <td>The Bourne Identity</td>\n",
       "    </tr>\n",
       "    <tr>\n",
       "      <th>13</th>\n",
       "      <td>143</td>\n",
       "      <td>4.057124</td>\n",
       "      <td>2005-11-29</td>\n",
       "      <td>2005.0</td>\n",
       "      <td>Batman Begins</td>\n",
       "    </tr>\n",
       "    <tr>\n",
       "      <th>14</th>\n",
       "      <td>126</td>\n",
       "      <td>4.051049</td>\n",
       "      <td>2005-01-09</td>\n",
       "      <td>2003.0</td>\n",
       "      <td>Whale Rider</td>\n",
       "    </tr>\n",
       "    <tr>\n",
       "      <th>15</th>\n",
       "      <td>53</td>\n",
       "      <td>4.050977</td>\n",
       "      <td>2005-10-11</td>\n",
       "      <td>2002.0</td>\n",
       "      <td>Bend It Like Beckham</td>\n",
       "    </tr>\n",
       "    <tr>\n",
       "      <th>16</th>\n",
       "      <td>11</td>\n",
       "      <td>4.029937</td>\n",
       "      <td>2004-08-08</td>\n",
       "      <td>2001.0</td>\n",
       "      <td>Sex and the City: Season 4</td>\n",
       "    </tr>\n",
       "    <tr>\n",
       "      <th>17</th>\n",
       "      <td>450</td>\n",
       "      <td>4.028149</td>\n",
       "      <td>2005-12-08</td>\n",
       "      <td>2004.0</td>\n",
       "      <td>The Sopranos: Season 5</td>\n",
       "    </tr>\n",
       "    <tr>\n",
       "      <th>18</th>\n",
       "      <td>226</td>\n",
       "      <td>4.022558</td>\n",
       "      <td>2005-09-04</td>\n",
       "      <td>2001.0</td>\n",
       "      <td>The Sopranos: Season 3</td>\n",
       "    </tr>\n",
       "    <tr>\n",
       "      <th>19</th>\n",
       "      <td>290</td>\n",
       "      <td>4.022284</td>\n",
       "      <td>2005-09-28</td>\n",
       "      <td>2002.0</td>\n",
       "      <td>Lord of the Rings: The Two Towers: Extended Ed...</td>\n",
       "    </tr>\n",
       "  </tbody>\n",
       "</table>\n",
       "</div>"
      ],
      "text/plain": [
       "    MovieId  predicted_ratings       Date  ReleaseYear  \\\n",
       "0       499           4.107019 2005-01-13       2003.0   \n",
       "1        46           4.102420 2005-10-19       2001.0   \n",
       "2       445           4.102376 2005-08-14       2002.0   \n",
       "3       196           4.099457 2004-07-13       2003.0   \n",
       "4       573           4.070008 2005-09-26       2003.0   \n",
       "5       681           4.065383 2005-09-26       2002.0   \n",
       "6        87           4.062188 2005-01-09       2001.0   \n",
       "7       294           4.061111 2005-09-26       2001.0   \n",
       "8       153           4.060180 2005-09-26       2003.0   \n",
       "9       561           4.059469 2005-01-09       2001.0   \n",
       "10      446           4.057522 2005-01-09       2002.0   \n",
       "11      525           4.057286 2005-11-03       2000.0   \n",
       "12      244           4.057184 2005-09-26       2002.0   \n",
       "13      143           4.057124 2005-11-29       2005.0   \n",
       "14      126           4.051049 2005-01-09       2003.0   \n",
       "15       53           4.050977 2005-10-11       2002.0   \n",
       "16       11           4.029937 2004-08-08       2001.0   \n",
       "17      450           4.028149 2005-12-08       2004.0   \n",
       "18      226           4.022558 2005-09-04       2001.0   \n",
       "19      290           4.022284 2005-09-28       2002.0   \n",
       "\n",
       "                                           MovieTitle  \n",
       "0                                        24: Season 3  \n",
       "1                                    A Beautiful Mind  \n",
       "2             Harry Potter and the Chamber of Secrets  \n",
       "3                                          Seabiscuit  \n",
       "4   Lord of the Rings: The Return of the King: Ext...  \n",
       "5   E.T. the Extra-Terrestrial: The 20th Anniversa...  \n",
       "6       Lord of the Rings: The Fellowship of the Ring  \n",
       "7   The Lord of the Rings: The Fellowship of the R...  \n",
       "8                           Finding Nemo (Widescreen)  \n",
       "9                                 Shrek (Full-screen)  \n",
       "10                  Lord of the Rings: The Two Towers  \n",
       "11                                          Gladiator  \n",
       "12                                The Bourne Identity  \n",
       "13                                      Batman Begins  \n",
       "14                                        Whale Rider  \n",
       "15                               Bend It Like Beckham  \n",
       "16                         Sex and the City: Season 4  \n",
       "17                             The Sopranos: Season 5  \n",
       "18                             The Sopranos: Season 3  \n",
       "19  Lord of the Rings: The Two Towers: Extended Ed...  "
      ]
     },
     "execution_count": 61,
     "metadata": {},
     "output_type": "execute_result"
    }
   ],
   "source": [
    "# Using recommendations function to get top 10 recommendations for user 6528\n",
    "recommendations = get_recommendations(dataframe, 7314, 20, algo_optimized_item)\n",
    "\n",
    "# Creating dataframe for recommendations above\n",
    "pd.DataFrame(recommendations, columns = ['MovieId', 'predicted_ratings']).merge(df.drop(['CustId', 'Rating'], axis = 1).drop_duplicates(['MovieId']), on = 'MovieId', how = 'left')"
   ]
  },
  {
   "cell_type": "code",
   "execution_count": 62,
   "id": "3821cb40-1dcb-4404-bff1-6e12b1d756a8",
   "metadata": {},
   "outputs": [
    {
     "data": {
      "text/html": [
       "<div>\n",
       "<style scoped>\n",
       "    .dataframe tbody tr th:only-of-type {\n",
       "        vertical-align: middle;\n",
       "    }\n",
       "\n",
       "    .dataframe tbody tr th {\n",
       "        vertical-align: top;\n",
       "    }\n",
       "\n",
       "    .dataframe thead th {\n",
       "        text-align: right;\n",
       "    }\n",
       "</style>\n",
       "<table border=\"1\" class=\"dataframe\">\n",
       "  <thead>\n",
       "    <tr style=\"text-align: right;\">\n",
       "      <th></th>\n",
       "      <th>MovieId</th>\n",
       "      <th>rating_count</th>\n",
       "      <th>predicted_ratings</th>\n",
       "      <th>corrected_ratings</th>\n",
       "      <th>Date</th>\n",
       "      <th>ReleaseYear</th>\n",
       "      <th>MovieTitle</th>\n",
       "    </tr>\n",
       "  </thead>\n",
       "  <tbody>\n",
       "    <tr>\n",
       "      <th>0</th>\n",
       "      <td>46</td>\n",
       "      <td>3924</td>\n",
       "      <td>4.102420</td>\n",
       "      <td>4.086456</td>\n",
       "      <td>2005-10-19</td>\n",
       "      <td>2001.0</td>\n",
       "      <td>A Beautiful Mind</td>\n",
       "    </tr>\n",
       "    <tr>\n",
       "      <th>1</th>\n",
       "      <td>445</td>\n",
       "      <td>3865</td>\n",
       "      <td>4.102376</td>\n",
       "      <td>4.086291</td>\n",
       "      <td>2005-08-14</td>\n",
       "      <td>2002.0</td>\n",
       "      <td>Harry Potter and the Chamber of Secrets</td>\n",
       "    </tr>\n",
       "    <tr>\n",
       "      <th>2</th>\n",
       "      <td>196</td>\n",
       "      <td>3882</td>\n",
       "      <td>4.099457</td>\n",
       "      <td>4.083407</td>\n",
       "      <td>2004-07-13</td>\n",
       "      <td>2003.0</td>\n",
       "      <td>Seabiscuit</td>\n",
       "    </tr>\n",
       "    <tr>\n",
       "      <th>3</th>\n",
       "      <td>499</td>\n",
       "      <td>630</td>\n",
       "      <td>4.107019</td>\n",
       "      <td>4.067178</td>\n",
       "      <td>2005-01-13</td>\n",
       "      <td>2003.0</td>\n",
       "      <td>24: Season 3</td>\n",
       "    </tr>\n",
       "    <tr>\n",
       "      <th>4</th>\n",
       "      <td>573</td>\n",
       "      <td>2777</td>\n",
       "      <td>4.070008</td>\n",
       "      <td>4.051032</td>\n",
       "      <td>2005-09-26</td>\n",
       "      <td>2003.0</td>\n",
       "      <td>Lord of the Rings: The Return of the King: Ext...</td>\n",
       "    </tr>\n",
       "    <tr>\n",
       "      <th>5</th>\n",
       "      <td>87</td>\n",
       "      <td>5069</td>\n",
       "      <td>4.062188</td>\n",
       "      <td>4.048143</td>\n",
       "      <td>2005-01-09</td>\n",
       "      <td>2001.0</td>\n",
       "      <td>Lord of the Rings: The Fellowship of the Ring</td>\n",
       "    </tr>\n",
       "    <tr>\n",
       "      <th>6</th>\n",
       "      <td>153</td>\n",
       "      <td>4665</td>\n",
       "      <td>4.060180</td>\n",
       "      <td>4.045539</td>\n",
       "      <td>2005-09-26</td>\n",
       "      <td>2003.0</td>\n",
       "      <td>Finding Nemo (Widescreen)</td>\n",
       "    </tr>\n",
       "    <tr>\n",
       "      <th>7</th>\n",
       "      <td>561</td>\n",
       "      <td>4281</td>\n",
       "      <td>4.059469</td>\n",
       "      <td>4.044185</td>\n",
       "      <td>2005-01-09</td>\n",
       "      <td>2001.0</td>\n",
       "      <td>Shrek (Full-screen)</td>\n",
       "    </tr>\n",
       "    <tr>\n",
       "      <th>8</th>\n",
       "      <td>681</td>\n",
       "      <td>2093</td>\n",
       "      <td>4.065383</td>\n",
       "      <td>4.043524</td>\n",
       "      <td>2005-09-26</td>\n",
       "      <td>2002.0</td>\n",
       "      <td>E.T. the Extra-Terrestrial: The 20th Anniversa...</td>\n",
       "    </tr>\n",
       "    <tr>\n",
       "      <th>9</th>\n",
       "      <td>446</td>\n",
       "      <td>5028</td>\n",
       "      <td>4.057522</td>\n",
       "      <td>4.043419</td>\n",
       "      <td>2005-01-09</td>\n",
       "      <td>2002.0</td>\n",
       "      <td>Lord of the Rings: The Two Towers</td>\n",
       "    </tr>\n",
       "    <tr>\n",
       "      <th>10</th>\n",
       "      <td>244</td>\n",
       "      <td>5230</td>\n",
       "      <td>4.057184</td>\n",
       "      <td>4.043357</td>\n",
       "      <td>2005-09-26</td>\n",
       "      <td>2002.0</td>\n",
       "      <td>The Bourne Identity</td>\n",
       "    </tr>\n",
       "    <tr>\n",
       "      <th>11</th>\n",
       "      <td>525</td>\n",
       "      <td>4794</td>\n",
       "      <td>4.057286</td>\n",
       "      <td>4.042844</td>\n",
       "      <td>2005-11-03</td>\n",
       "      <td>2000.0</td>\n",
       "      <td>Gladiator</td>\n",
       "    </tr>\n",
       "    <tr>\n",
       "      <th>12</th>\n",
       "      <td>294</td>\n",
       "      <td>2783</td>\n",
       "      <td>4.061111</td>\n",
       "      <td>4.042155</td>\n",
       "      <td>2005-09-26</td>\n",
       "      <td>2001.0</td>\n",
       "      <td>The Lord of the Rings: The Fellowship of the R...</td>\n",
       "    </tr>\n",
       "    <tr>\n",
       "      <th>13</th>\n",
       "      <td>143</td>\n",
       "      <td>1886</td>\n",
       "      <td>4.057124</td>\n",
       "      <td>4.034098</td>\n",
       "      <td>2005-11-29</td>\n",
       "      <td>2005.0</td>\n",
       "      <td>Batman Begins</td>\n",
       "    </tr>\n",
       "    <tr>\n",
       "      <th>14</th>\n",
       "      <td>53</td>\n",
       "      <td>3391</td>\n",
       "      <td>4.050977</td>\n",
       "      <td>4.033805</td>\n",
       "      <td>2005-10-11</td>\n",
       "      <td>2002.0</td>\n",
       "      <td>Bend It Like Beckham</td>\n",
       "    </tr>\n",
       "    <tr>\n",
       "      <th>15</th>\n",
       "      <td>126</td>\n",
       "      <td>2354</td>\n",
       "      <td>4.051049</td>\n",
       "      <td>4.030438</td>\n",
       "      <td>2005-01-09</td>\n",
       "      <td>2003.0</td>\n",
       "      <td>Whale Rider</td>\n",
       "    </tr>\n",
       "    <tr>\n",
       "      <th>16</th>\n",
       "      <td>290</td>\n",
       "      <td>2786</td>\n",
       "      <td>4.022284</td>\n",
       "      <td>4.003339</td>\n",
       "      <td>2005-09-28</td>\n",
       "      <td>2002.0</td>\n",
       "      <td>Lord of the Rings: The Two Towers: Extended Ed...</td>\n",
       "    </tr>\n",
       "    <tr>\n",
       "      <th>17</th>\n",
       "      <td>11</td>\n",
       "      <td>1200</td>\n",
       "      <td>4.029937</td>\n",
       "      <td>4.001069</td>\n",
       "      <td>2004-08-08</td>\n",
       "      <td>2001.0</td>\n",
       "      <td>Sex and the City: Season 4</td>\n",
       "    </tr>\n",
       "    <tr>\n",
       "      <th>18</th>\n",
       "      <td>226</td>\n",
       "      <td>1320</td>\n",
       "      <td>4.022558</td>\n",
       "      <td>3.995034</td>\n",
       "      <td>2005-09-04</td>\n",
       "      <td>2001.0</td>\n",
       "      <td>The Sopranos: Season 3</td>\n",
       "    </tr>\n",
       "    <tr>\n",
       "      <th>19</th>\n",
       "      <td>450</td>\n",
       "      <td>726</td>\n",
       "      <td>4.028149</td>\n",
       "      <td>3.991036</td>\n",
       "      <td>2005-12-08</td>\n",
       "      <td>2004.0</td>\n",
       "      <td>The Sopranos: Season 5</td>\n",
       "    </tr>\n",
       "  </tbody>\n",
       "</table>\n",
       "</div>"
      ],
      "text/plain": [
       "    MovieId  rating_count  predicted_ratings  corrected_ratings       Date  \\\n",
       "0        46          3924           4.102420           4.086456 2005-10-19   \n",
       "1       445          3865           4.102376           4.086291 2005-08-14   \n",
       "2       196          3882           4.099457           4.083407 2004-07-13   \n",
       "3       499           630           4.107019           4.067178 2005-01-13   \n",
       "4       573          2777           4.070008           4.051032 2005-09-26   \n",
       "5        87          5069           4.062188           4.048143 2005-01-09   \n",
       "6       153          4665           4.060180           4.045539 2005-09-26   \n",
       "7       561          4281           4.059469           4.044185 2005-01-09   \n",
       "8       681          2093           4.065383           4.043524 2005-09-26   \n",
       "9       446          5028           4.057522           4.043419 2005-01-09   \n",
       "10      244          5230           4.057184           4.043357 2005-09-26   \n",
       "11      525          4794           4.057286           4.042844 2005-11-03   \n",
       "12      294          2783           4.061111           4.042155 2005-09-26   \n",
       "13      143          1886           4.057124           4.034098 2005-11-29   \n",
       "14       53          3391           4.050977           4.033805 2005-10-11   \n",
       "15      126          2354           4.051049           4.030438 2005-01-09   \n",
       "16      290          2786           4.022284           4.003339 2005-09-28   \n",
       "17       11          1200           4.029937           4.001069 2004-08-08   \n",
       "18      226          1320           4.022558           3.995034 2005-09-04   \n",
       "19      450           726           4.028149           3.991036 2005-12-08   \n",
       "\n",
       "    ReleaseYear                                         MovieTitle  \n",
       "0        2001.0                                   A Beautiful Mind  \n",
       "1        2002.0            Harry Potter and the Chamber of Secrets  \n",
       "2        2003.0                                         Seabiscuit  \n",
       "3        2003.0                                       24: Season 3  \n",
       "4        2003.0  Lord of the Rings: The Return of the King: Ext...  \n",
       "5        2001.0      Lord of the Rings: The Fellowship of the Ring  \n",
       "6        2003.0                          Finding Nemo (Widescreen)  \n",
       "7        2001.0                                Shrek (Full-screen)  \n",
       "8        2002.0  E.T. the Extra-Terrestrial: The 20th Anniversa...  \n",
       "9        2002.0                  Lord of the Rings: The Two Towers  \n",
       "10       2002.0                                The Bourne Identity  \n",
       "11       2000.0                                          Gladiator  \n",
       "12       2001.0  The Lord of the Rings: The Fellowship of the R...  \n",
       "13       2005.0                                      Batman Begins  \n",
       "14       2002.0                               Bend It Like Beckham  \n",
       "15       2003.0                                        Whale Rider  \n",
       "16       2002.0  Lord of the Rings: The Two Towers: Extended Ed...  \n",
       "17       2001.0                         Sex and the City: Season 4  \n",
       "18       2001.0                             The Sopranos: Season 3  \n",
       "19       2004.0                             The Sopranos: Season 5  "
      ]
     },
     "execution_count": 62,
     "metadata": {},
     "output_type": "execute_result"
    }
   ],
   "source": [
    "# Applying corrected ranking function to get new list of recommended movies and merging original data frame to see full view of movies listed\n",
    "ranking_movies(recommendations, rank_rating).merge(df.drop(['CustId', 'Rating'], axis = 1).drop_duplicates(['MovieId']), on = 'MovieId', how = 'left')"
   ]
  },
  {
   "cell_type": "markdown",
   "id": "70e41a1d-8f25-43ff-b994-a71d091039af",
   "metadata": {},
   "source": [
    "We can see that after the correction, the order of the movies slightly changed."
   ]
  },
  {
   "cell_type": "markdown",
   "id": "72c50ae1-0b94-4316-a4a9-e7839a19f174",
   "metadata": {},
   "source": [
    "# Model 4: Matrix Factorization"
   ]
  },
  {
   "cell_type": "markdown",
   "id": "b9332570-b4b0-4f9c-9c55-ac93f9971769",
   "metadata": {},
   "source": [
    "Model-based Collaborative Filtering is a personalized recommendation system, the recommendations are based on the past behavior of the user and it is not dependent on any additional information. We use latent features to find recommendations for each user. We will use SVD, where it is used to compute the latent features from the user-movie matrix, and keeping in mind that SVD does not work when we miss values in the user-item matrix."
   ]
  },
  {
   "cell_type": "code",
   "execution_count": 63,
   "id": "4ea75270-7d39-4f8b-a15a-9fd904a72f5c",
   "metadata": {},
   "outputs": [
    {
     "name": "stdout",
     "output_type": "stream",
     "text": [
      "RMSE: 0.8679\n",
      "Precision:  0.988\n",
      "Recall:  0.183\n",
      "F_1 Score:  0.309\n"
     ]
    }
   ],
   "source": [
    "# Setting up matrix factorization via SVD \n",
    "svd = SVD(random_state = 1)\n",
    "\n",
    "# Training SVD with training set\n",
    "svd.fit(trainset)\n",
    "\n",
    "# Calculating presicion, recall, and F-1 score from function built at k = 15\n",
    "precision_recall_at_k(svd)"
   ]
  },
  {
   "cell_type": "markdown",
   "id": "703c1bc7-657b-4f2b-bc65-28dbf177d294",
   "metadata": {},
   "source": [
    "We observe that the baseline RMSE and F_1 score for the matrix factorization model is higher in comparison to the F_1 score for the user-user similarity-based recommendation system and lower in comparison to the optimized user-user similarity-based recommendation system. The SVD RMSE and F_1 score are also better than both baseline and optimized item-item similarity-based recommendation systems."
   ]
  },
  {
   "cell_type": "code",
   "execution_count": 64,
   "id": "a81269d1-adce-4f95-9a07-8f5e3d925560",
   "metadata": {},
   "outputs": [
    {
     "name": "stdout",
     "output_type": "stream",
     "text": [
      "user: 7314       item: 137        r_ui = 4.00   est = 3.53   {'was_impossible': False}\n"
     ]
    },
    {
     "data": {
      "text/plain": [
       "Prediction(uid=7314, iid=137, r_ui=4, est=3.533955040114533, details={'was_impossible': False})"
      ]
     },
     "execution_count": 64,
     "metadata": {},
     "output_type": "execute_result"
    }
   ],
   "source": [
    "# Predicting rating for CustId = 7314 and MovieId = 137 (user has already rated the movie \"Bad Boys II\" 4 stars) \n",
    "svd.predict(7314, 137, r_ui = 4, verbose = True)"
   ]
  },
  {
   "cell_type": "code",
   "execution_count": 65,
   "id": "cf93ad52-8e02-4c90-9cff-ef9c14ea29fe",
   "metadata": {},
   "outputs": [
    {
     "name": "stdout",
     "output_type": "stream",
     "text": [
      "user: 7314       item: 27         r_ui = None   est = 3.15   {'was_impossible': False}\n"
     ]
    },
    {
     "data": {
      "text/plain": [
       "Prediction(uid=7314, iid=27, r_ui=None, est=3.1471595291165766, details={'was_impossible': False})"
      ]
     },
     "execution_count": 65,
     "metadata": {},
     "output_type": "execute_result"
    }
   ],
   "source": [
    "# Predicting rating for CustId = 7314 and MovieId = 27 (Rush Hour 2 is a similar movie to 137 and user has not rated it yet)\n",
    "svd.predict(7314, 27, verbose = True)"
   ]
  },
  {
   "cell_type": "markdown",
   "id": "8e16db02-9d9b-462b-831f-84960e91be4e",
   "metadata": {},
   "source": [
    "We observe that the model's rating predictions for movie 137 and 27 for user 7314 is similar to the rating predictions of item based recommendation system. "
   ]
  },
  {
   "cell_type": "code",
   "execution_count": 66,
   "id": "ad2202b0-a383-48a0-a344-2bc7d5891656",
   "metadata": {},
   "outputs": [
    {
     "name": "stdout",
     "output_type": "stream",
     "text": [
      "0.9060439962833716\n",
      "{'n_epochs': 20, 'lr_all': 0.01, 'reg_all': 0.2}\n"
     ]
    }
   ],
   "source": [
    "# Setting up parameter grid to tune the hyperparameters\n",
    "param_grid = {'n_epochs': [10, 15, 20], 'lr_all': [0.001, 0.005, 0.01], 'reg_all': [0.2, 0.4, 0.6]}\n",
    "\n",
    "# Performing 3-fold cross validation to tune the hyperparameters\n",
    "gs_ = GridSearchCV(SVD, param_grid, measures = ['rmse'], cv = 3, n_jobs = -1)\n",
    "\n",
    "# Fitting the data\n",
    "gs_.fit(_data)\n",
    "\n",
    "# Printing best RMSE score and best combination of parameters leading to best RMSE score\n",
    "print(gs_.best_score['rmse'])\n",
    "print(gs_.best_params['rmse'])"
   ]
  },
  {
   "cell_type": "markdown",
   "id": "2a470d55-f7a6-4e7c-9e29-3681949ce1b5",
   "metadata": {},
   "source": [
    "RMSE declines which can be due to not enough tuning because of low computational power. However, we will use these intermediate hyperparameters to tune our model."
   ]
  },
  {
   "cell_type": "code",
   "execution_count": 67,
   "id": "1d89ac06-030e-434f-b22b-a3e3ac870024",
   "metadata": {},
   "outputs": [
    {
     "name": "stdout",
     "output_type": "stream",
     "text": [
      "RMSE: 0.9061\n",
      "Precision:  0.983\n",
      "Recall:  0.182\n",
      "F_1 Score:  0.307\n"
     ]
    }
   ],
   "source": [
    "# Implementing optimal hyperparameters for optimized SVD\n",
    "svd_optimized = SVD(n_epochs = 20, lr_all = 0.01, reg_all = 0.2, random_state = 1)\n",
    "\n",
    "# Fitting the data\n",
    "svd_optimized = svd_optimized.fit(trainset)\n",
    "\n",
    "# Calculating presicion, recall, and F-1 score from function built at k = 30 and optimized algorithm\n",
    "precision_recall_at_k(svd_optimized)"
   ]
  },
  {
   "cell_type": "markdown",
   "id": "4a5919fd-205a-428f-9e93-9405e5680f7b",
   "metadata": {},
   "source": [
    "As mentioned before, the model's performance has declined due to poor tuning from low computational power. We observe that RMSE and F_1 score both decline for the model."
   ]
  },
  {
   "cell_type": "code",
   "execution_count": 68,
   "id": "7b13536c-ca9b-407f-9866-eb968235f5c2",
   "metadata": {},
   "outputs": [
    {
     "name": "stdout",
     "output_type": "stream",
     "text": [
      "user: 7314       item: 137        r_ui = 4.00   est = 3.34   {'was_impossible': False}\n"
     ]
    },
    {
     "data": {
      "text/plain": [
       "Prediction(uid=7314, iid=137, r_ui=4, est=3.3444270045008277, details={'was_impossible': False})"
      ]
     },
     "execution_count": 68,
     "metadata": {},
     "output_type": "execute_result"
    }
   ],
   "source": [
    "# Predicting rating for CustId = 7314 and MovieId = 137 using optimized SVD (user has already rated the movie \"Bad Boys II\" 4 stars)\n",
    "svd_optimized.predict(7314, 137, r_ui = 4, verbose = True)"
   ]
  },
  {
   "cell_type": "code",
   "execution_count": 69,
   "id": "494a6e00-47e6-4bdd-8c1f-529bd14e770f",
   "metadata": {},
   "outputs": [
    {
     "name": "stdout",
     "output_type": "stream",
     "text": [
      "user: 7314       item: 27         r_ui = None   est = 3.32   {'was_impossible': False}\n"
     ]
    },
    {
     "data": {
      "text/plain": [
       "Prediction(uid=7314, iid=27, r_ui=None, est=3.320525724168555, details={'was_impossible': False})"
      ]
     },
     "execution_count": 69,
     "metadata": {},
     "output_type": "execute_result"
    }
   ],
   "source": [
    "# Predicting rating for CustId = 7314 and MovieId = 27 using optimized SVD (Rush Hour 2 is a similar movie to 137 and user has not rated it yet) \n",
    "svd_optimized.predict(7314, 27, verbose = True)"
   ]
  },
  {
   "cell_type": "markdown",
   "id": "16a2c615-1fd8-4d2e-afac-83b7dd0091f3",
   "metadata": {},
   "source": [
    "We observe that the model predicts movie 137 and 27 for user 7314 is an even lower rating than the baseline SVD model. "
   ]
  },
  {
   "cell_type": "code",
   "execution_count": 70,
   "id": "b98663c3-c3a9-4061-a272-0a5880b5d67c",
   "metadata": {},
   "outputs": [
    {
     "data": {
      "text/html": [
       "<div>\n",
       "<style scoped>\n",
       "    .dataframe tbody tr th:only-of-type {\n",
       "        vertical-align: middle;\n",
       "    }\n",
       "\n",
       "    .dataframe tbody tr th {\n",
       "        vertical-align: top;\n",
       "    }\n",
       "\n",
       "    .dataframe thead th {\n",
       "        text-align: right;\n",
       "    }\n",
       "</style>\n",
       "<table border=\"1\" class=\"dataframe\">\n",
       "  <thead>\n",
       "    <tr style=\"text-align: right;\">\n",
       "      <th></th>\n",
       "      <th>MovieId</th>\n",
       "      <th>predicted_ratings</th>\n",
       "      <th>Date</th>\n",
       "      <th>ReleaseYear</th>\n",
       "      <th>MovieTitle</th>\n",
       "    </tr>\n",
       "  </thead>\n",
       "  <tbody>\n",
       "    <tr>\n",
       "      <th>0</th>\n",
       "      <td>290</td>\n",
       "      <td>4.573611</td>\n",
       "      <td>2005-09-28</td>\n",
       "      <td>2002.0</td>\n",
       "      <td>Lord of the Rings: The Two Towers: Extended Ed...</td>\n",
       "    </tr>\n",
       "    <tr>\n",
       "      <th>1</th>\n",
       "      <td>573</td>\n",
       "      <td>4.555752</td>\n",
       "      <td>2005-09-26</td>\n",
       "      <td>2003.0</td>\n",
       "      <td>Lord of the Rings: The Return of the King: Ext...</td>\n",
       "    </tr>\n",
       "    <tr>\n",
       "      <th>2</th>\n",
       "      <td>294</td>\n",
       "      <td>4.507427</td>\n",
       "      <td>2005-09-26</td>\n",
       "      <td>2001.0</td>\n",
       "      <td>The Lord of the Rings: The Fellowship of the R...</td>\n",
       "    </tr>\n",
       "    <tr>\n",
       "      <th>3</th>\n",
       "      <td>543</td>\n",
       "      <td>4.395319</td>\n",
       "      <td>2005-02-15</td>\n",
       "      <td>2003.0</td>\n",
       "      <td>Lord of the Rings: The Return of the King</td>\n",
       "    </tr>\n",
       "    <tr>\n",
       "      <th>4</th>\n",
       "      <td>587</td>\n",
       "      <td>4.388709</td>\n",
       "      <td>2005-12-27</td>\n",
       "      <td>2001.0</td>\n",
       "      <td>Band of Brothers</td>\n",
       "    </tr>\n",
       "    <tr>\n",
       "      <th>5</th>\n",
       "      <td>226</td>\n",
       "      <td>4.377251</td>\n",
       "      <td>2005-09-04</td>\n",
       "      <td>2001.0</td>\n",
       "      <td>The Sopranos: Season 3</td>\n",
       "    </tr>\n",
       "    <tr>\n",
       "      <th>6</th>\n",
       "      <td>450</td>\n",
       "      <td>4.377166</td>\n",
       "      <td>2005-12-08</td>\n",
       "      <td>2004.0</td>\n",
       "      <td>The Sopranos: Season 5</td>\n",
       "    </tr>\n",
       "    <tr>\n",
       "      <th>7</th>\n",
       "      <td>327</td>\n",
       "      <td>4.341475</td>\n",
       "      <td>2004-05-10</td>\n",
       "      <td>2002.0</td>\n",
       "      <td>The Sopranos: Season 4</td>\n",
       "    </tr>\n",
       "    <tr>\n",
       "      <th>8</th>\n",
       "      <td>87</td>\n",
       "      <td>4.332862</td>\n",
       "      <td>2005-01-09</td>\n",
       "      <td>2001.0</td>\n",
       "      <td>Lord of the Rings: The Fellowship of the Ring</td>\n",
       "    </tr>\n",
       "    <tr>\n",
       "      <th>9</th>\n",
       "      <td>341</td>\n",
       "      <td>4.323529</td>\n",
       "      <td>2005-08-08</td>\n",
       "      <td>2001.0</td>\n",
       "      <td>24: Season 1</td>\n",
       "    </tr>\n",
       "    <tr>\n",
       "      <th>10</th>\n",
       "      <td>310</td>\n",
       "      <td>4.298223</td>\n",
       "      <td>2005-07-08</td>\n",
       "      <td>2003.0</td>\n",
       "      <td>Six Feet Under: Season 3</td>\n",
       "    </tr>\n",
       "    <tr>\n",
       "      <th>11</th>\n",
       "      <td>342</td>\n",
       "      <td>4.290297</td>\n",
       "      <td>2005-08-11</td>\n",
       "      <td>2002.0</td>\n",
       "      <td>CSI: Season 3</td>\n",
       "    </tr>\n",
       "    <tr>\n",
       "      <th>12</th>\n",
       "      <td>545</td>\n",
       "      <td>4.281688</td>\n",
       "      <td>2005-09-04</td>\n",
       "      <td>2000.0</td>\n",
       "      <td>The Sopranos: Season 2</td>\n",
       "    </tr>\n",
       "    <tr>\n",
       "      <th>13</th>\n",
       "      <td>472</td>\n",
       "      <td>4.280875</td>\n",
       "      <td>2005-12-22</td>\n",
       "      <td>2002.0</td>\n",
       "      <td>Sex and the City: Season 5</td>\n",
       "    </tr>\n",
       "    <tr>\n",
       "      <th>14</th>\n",
       "      <td>646</td>\n",
       "      <td>4.280190</td>\n",
       "      <td>2004-05-24</td>\n",
       "      <td>2003.0</td>\n",
       "      <td>Sex and the City: Season 6: Part 1</td>\n",
       "    </tr>\n",
       "    <tr>\n",
       "      <th>15</th>\n",
       "      <td>390</td>\n",
       "      <td>4.269570</td>\n",
       "      <td>2004-07-29</td>\n",
       "      <td>2001.0</td>\n",
       "      <td>Six Feet Under: Season 2</td>\n",
       "    </tr>\n",
       "    <tr>\n",
       "      <th>16</th>\n",
       "      <td>664</td>\n",
       "      <td>4.261626</td>\n",
       "      <td>2005-08-08</td>\n",
       "      <td>2002.0</td>\n",
       "      <td>24: Season 2</td>\n",
       "    </tr>\n",
       "    <tr>\n",
       "      <th>17</th>\n",
       "      <td>497</td>\n",
       "      <td>4.258503</td>\n",
       "      <td>2005-01-20</td>\n",
       "      <td>2001.0</td>\n",
       "      <td>Family Guy: Vol. 2: Season 3</td>\n",
       "    </tr>\n",
       "    <tr>\n",
       "      <th>18</th>\n",
       "      <td>486</td>\n",
       "      <td>4.243001</td>\n",
       "      <td>2005-06-27</td>\n",
       "      <td>2004.0</td>\n",
       "      <td>Sex and the City: Season 6: Part 2</td>\n",
       "    </tr>\n",
       "    <tr>\n",
       "      <th>19</th>\n",
       "      <td>446</td>\n",
       "      <td>4.240122</td>\n",
       "      <td>2005-01-09</td>\n",
       "      <td>2002.0</td>\n",
       "      <td>Lord of the Rings: The Two Towers</td>\n",
       "    </tr>\n",
       "  </tbody>\n",
       "</table>\n",
       "</div>"
      ],
      "text/plain": [
       "    MovieId  predicted_ratings       Date  ReleaseYear  \\\n",
       "0       290           4.573611 2005-09-28       2002.0   \n",
       "1       573           4.555752 2005-09-26       2003.0   \n",
       "2       294           4.507427 2005-09-26       2001.0   \n",
       "3       543           4.395319 2005-02-15       2003.0   \n",
       "4       587           4.388709 2005-12-27       2001.0   \n",
       "5       226           4.377251 2005-09-04       2001.0   \n",
       "6       450           4.377166 2005-12-08       2004.0   \n",
       "7       327           4.341475 2004-05-10       2002.0   \n",
       "8        87           4.332862 2005-01-09       2001.0   \n",
       "9       341           4.323529 2005-08-08       2001.0   \n",
       "10      310           4.298223 2005-07-08       2003.0   \n",
       "11      342           4.290297 2005-08-11       2002.0   \n",
       "12      545           4.281688 2005-09-04       2000.0   \n",
       "13      472           4.280875 2005-12-22       2002.0   \n",
       "14      646           4.280190 2004-05-24       2003.0   \n",
       "15      390           4.269570 2004-07-29       2001.0   \n",
       "16      664           4.261626 2005-08-08       2002.0   \n",
       "17      497           4.258503 2005-01-20       2001.0   \n",
       "18      486           4.243001 2005-06-27       2004.0   \n",
       "19      446           4.240122 2005-01-09       2002.0   \n",
       "\n",
       "                                           MovieTitle  \n",
       "0   Lord of the Rings: The Two Towers: Extended Ed...  \n",
       "1   Lord of the Rings: The Return of the King: Ext...  \n",
       "2   The Lord of the Rings: The Fellowship of the R...  \n",
       "3           Lord of the Rings: The Return of the King  \n",
       "4                                    Band of Brothers  \n",
       "5                              The Sopranos: Season 3  \n",
       "6                              The Sopranos: Season 5  \n",
       "7                              The Sopranos: Season 4  \n",
       "8       Lord of the Rings: The Fellowship of the Ring  \n",
       "9                                        24: Season 1  \n",
       "10                           Six Feet Under: Season 3  \n",
       "11                                      CSI: Season 3  \n",
       "12                             The Sopranos: Season 2  \n",
       "13                         Sex and the City: Season 5  \n",
       "14                 Sex and the City: Season 6: Part 1  \n",
       "15                           Six Feet Under: Season 2  \n",
       "16                                       24: Season 2  \n",
       "17                       Family Guy: Vol. 2: Season 3  \n",
       "18                 Sex and the City: Season 6: Part 2  \n",
       "19                  Lord of the Rings: The Two Towers  "
      ]
     },
     "execution_count": 70,
     "metadata": {},
     "output_type": "execute_result"
    }
   ],
   "source": [
    "# Using recommendations function to get top 20 recommendations for user 7314\n",
    "svd_recommendations = get_recommendations(dataframe, 7314, 20, svd_optimized)\n",
    "\n",
    "# Creating dataframe for recommendations above\n",
    "pd.DataFrame(svd_recommendations, columns = ['MovieId', 'predicted_ratings']).merge(df.drop(['CustId', 'Rating'], axis = 1).drop_duplicates(['MovieId']), on = 'MovieId', how = 'left')"
   ]
  },
  {
   "cell_type": "code",
   "execution_count": 71,
   "id": "1552f501-8bf9-45f5-ba66-60bbd2d91094",
   "metadata": {},
   "outputs": [
    {
     "data": {
      "text/html": [
       "<div>\n",
       "<style scoped>\n",
       "    .dataframe tbody tr th:only-of-type {\n",
       "        vertical-align: middle;\n",
       "    }\n",
       "\n",
       "    .dataframe tbody tr th {\n",
       "        vertical-align: top;\n",
       "    }\n",
       "\n",
       "    .dataframe thead th {\n",
       "        text-align: right;\n",
       "    }\n",
       "</style>\n",
       "<table border=\"1\" class=\"dataframe\">\n",
       "  <thead>\n",
       "    <tr style=\"text-align: right;\">\n",
       "      <th></th>\n",
       "      <th>MovieId</th>\n",
       "      <th>rating_count</th>\n",
       "      <th>predicted_ratings</th>\n",
       "      <th>corrected_ratings</th>\n",
       "      <th>Date</th>\n",
       "      <th>ReleaseYear</th>\n",
       "      <th>MovieTitle</th>\n",
       "    </tr>\n",
       "  </thead>\n",
       "  <tbody>\n",
       "    <tr>\n",
       "      <th>0</th>\n",
       "      <td>290</td>\n",
       "      <td>2786</td>\n",
       "      <td>4.573611</td>\n",
       "      <td>4.554665</td>\n",
       "      <td>2005-09-28</td>\n",
       "      <td>2002.0</td>\n",
       "      <td>Lord of the Rings: The Two Towers: Extended Ed...</td>\n",
       "    </tr>\n",
       "    <tr>\n",
       "      <th>1</th>\n",
       "      <td>573</td>\n",
       "      <td>2777</td>\n",
       "      <td>4.555752</td>\n",
       "      <td>4.536776</td>\n",
       "      <td>2005-09-26</td>\n",
       "      <td>2003.0</td>\n",
       "      <td>Lord of the Rings: The Return of the King: Ext...</td>\n",
       "    </tr>\n",
       "    <tr>\n",
       "      <th>2</th>\n",
       "      <td>294</td>\n",
       "      <td>2783</td>\n",
       "      <td>4.507427</td>\n",
       "      <td>4.488471</td>\n",
       "      <td>2005-09-26</td>\n",
       "      <td>2001.0</td>\n",
       "      <td>The Lord of the Rings: The Fellowship of the R...</td>\n",
       "    </tr>\n",
       "    <tr>\n",
       "      <th>3</th>\n",
       "      <td>543</td>\n",
       "      <td>4620</td>\n",
       "      <td>4.395319</td>\n",
       "      <td>4.380606</td>\n",
       "      <td>2005-02-15</td>\n",
       "      <td>2003.0</td>\n",
       "      <td>Lord of the Rings: The Return of the King</td>\n",
       "    </tr>\n",
       "    <tr>\n",
       "      <th>4</th>\n",
       "      <td>587</td>\n",
       "      <td>1341</td>\n",
       "      <td>4.388709</td>\n",
       "      <td>4.361401</td>\n",
       "      <td>2005-12-27</td>\n",
       "      <td>2001.0</td>\n",
       "      <td>Band of Brothers</td>\n",
       "    </tr>\n",
       "    <tr>\n",
       "      <th>5</th>\n",
       "      <td>226</td>\n",
       "      <td>1320</td>\n",
       "      <td>4.377251</td>\n",
       "      <td>4.349727</td>\n",
       "      <td>2005-09-04</td>\n",
       "      <td>2001.0</td>\n",
       "      <td>The Sopranos: Season 3</td>\n",
       "    </tr>\n",
       "    <tr>\n",
       "      <th>6</th>\n",
       "      <td>450</td>\n",
       "      <td>726</td>\n",
       "      <td>4.377166</td>\n",
       "      <td>4.340053</td>\n",
       "      <td>2005-12-08</td>\n",
       "      <td>2004.0</td>\n",
       "      <td>The Sopranos: Season 5</td>\n",
       "    </tr>\n",
       "    <tr>\n",
       "      <th>7</th>\n",
       "      <td>87</td>\n",
       "      <td>5069</td>\n",
       "      <td>4.332862</td>\n",
       "      <td>4.318816</td>\n",
       "      <td>2005-01-09</td>\n",
       "      <td>2001.0</td>\n",
       "      <td>Lord of the Rings: The Fellowship of the Ring</td>\n",
       "    </tr>\n",
       "    <tr>\n",
       "      <th>8</th>\n",
       "      <td>327</td>\n",
       "      <td>1196</td>\n",
       "      <td>4.341475</td>\n",
       "      <td>4.312559</td>\n",
       "      <td>2004-05-10</td>\n",
       "      <td>2002.0</td>\n",
       "      <td>The Sopranos: Season 4</td>\n",
       "    </tr>\n",
       "    <tr>\n",
       "      <th>9</th>\n",
       "      <td>341</td>\n",
       "      <td>1049</td>\n",
       "      <td>4.323529</td>\n",
       "      <td>4.292653</td>\n",
       "      <td>2005-08-08</td>\n",
       "      <td>2001.0</td>\n",
       "      <td>24: Season 1</td>\n",
       "    </tr>\n",
       "    <tr>\n",
       "      <th>10</th>\n",
       "      <td>310</td>\n",
       "      <td>554</td>\n",
       "      <td>4.298223</td>\n",
       "      <td>4.255737</td>\n",
       "      <td>2005-07-08</td>\n",
       "      <td>2003.0</td>\n",
       "      <td>Six Feet Under: Season 3</td>\n",
       "    </tr>\n",
       "    <tr>\n",
       "      <th>11</th>\n",
       "      <td>545</td>\n",
       "      <td>1400</td>\n",
       "      <td>4.281688</td>\n",
       "      <td>4.254961</td>\n",
       "      <td>2005-09-04</td>\n",
       "      <td>2000.0</td>\n",
       "      <td>The Sopranos: Season 2</td>\n",
       "    </tr>\n",
       "    <tr>\n",
       "      <th>12</th>\n",
       "      <td>472</td>\n",
       "      <td>1135</td>\n",
       "      <td>4.280875</td>\n",
       "      <td>4.251193</td>\n",
       "      <td>2005-12-22</td>\n",
       "      <td>2002.0</td>\n",
       "      <td>Sex and the City: Season 5</td>\n",
       "    </tr>\n",
       "    <tr>\n",
       "      <th>13</th>\n",
       "      <td>646</td>\n",
       "      <td>1145</td>\n",
       "      <td>4.280190</td>\n",
       "      <td>4.250637</td>\n",
       "      <td>2004-05-24</td>\n",
       "      <td>2003.0</td>\n",
       "      <td>Sex and the City: Season 6: Part 1</td>\n",
       "    </tr>\n",
       "    <tr>\n",
       "      <th>14</th>\n",
       "      <td>342</td>\n",
       "      <td>501</td>\n",
       "      <td>4.290297</td>\n",
       "      <td>4.245620</td>\n",
       "      <td>2005-08-11</td>\n",
       "      <td>2002.0</td>\n",
       "      <td>CSI: Season 3</td>\n",
       "    </tr>\n",
       "    <tr>\n",
       "      <th>15</th>\n",
       "      <td>390</td>\n",
       "      <td>858</td>\n",
       "      <td>4.269570</td>\n",
       "      <td>4.235431</td>\n",
       "      <td>2004-07-29</td>\n",
       "      <td>2001.0</td>\n",
       "      <td>Six Feet Under: Season 2</td>\n",
       "    </tr>\n",
       "    <tr>\n",
       "      <th>16</th>\n",
       "      <td>664</td>\n",
       "      <td>840</td>\n",
       "      <td>4.261626</td>\n",
       "      <td>4.227123</td>\n",
       "      <td>2005-08-08</td>\n",
       "      <td>2002.0</td>\n",
       "      <td>24: Season 2</td>\n",
       "    </tr>\n",
       "    <tr>\n",
       "      <th>17</th>\n",
       "      <td>446</td>\n",
       "      <td>5028</td>\n",
       "      <td>4.240122</td>\n",
       "      <td>4.226019</td>\n",
       "      <td>2005-01-09</td>\n",
       "      <td>2002.0</td>\n",
       "      <td>Lord of the Rings: The Two Towers</td>\n",
       "    </tr>\n",
       "    <tr>\n",
       "      <th>18</th>\n",
       "      <td>497</td>\n",
       "      <td>799</td>\n",
       "      <td>4.258503</td>\n",
       "      <td>4.223125</td>\n",
       "      <td>2005-01-20</td>\n",
       "      <td>2001.0</td>\n",
       "      <td>Family Guy: Vol. 2: Season 3</td>\n",
       "    </tr>\n",
       "    <tr>\n",
       "      <th>19</th>\n",
       "      <td>486</td>\n",
       "      <td>973</td>\n",
       "      <td>4.243001</td>\n",
       "      <td>4.210942</td>\n",
       "      <td>2005-06-27</td>\n",
       "      <td>2004.0</td>\n",
       "      <td>Sex and the City: Season 6: Part 2</td>\n",
       "    </tr>\n",
       "  </tbody>\n",
       "</table>\n",
       "</div>"
      ],
      "text/plain": [
       "    MovieId  rating_count  predicted_ratings  corrected_ratings       Date  \\\n",
       "0       290          2786           4.573611           4.554665 2005-09-28   \n",
       "1       573          2777           4.555752           4.536776 2005-09-26   \n",
       "2       294          2783           4.507427           4.488471 2005-09-26   \n",
       "3       543          4620           4.395319           4.380606 2005-02-15   \n",
       "4       587          1341           4.388709           4.361401 2005-12-27   \n",
       "5       226          1320           4.377251           4.349727 2005-09-04   \n",
       "6       450           726           4.377166           4.340053 2005-12-08   \n",
       "7        87          5069           4.332862           4.318816 2005-01-09   \n",
       "8       327          1196           4.341475           4.312559 2004-05-10   \n",
       "9       341          1049           4.323529           4.292653 2005-08-08   \n",
       "10      310           554           4.298223           4.255737 2005-07-08   \n",
       "11      545          1400           4.281688           4.254961 2005-09-04   \n",
       "12      472          1135           4.280875           4.251193 2005-12-22   \n",
       "13      646          1145           4.280190           4.250637 2004-05-24   \n",
       "14      342           501           4.290297           4.245620 2005-08-11   \n",
       "15      390           858           4.269570           4.235431 2004-07-29   \n",
       "16      664           840           4.261626           4.227123 2005-08-08   \n",
       "17      446          5028           4.240122           4.226019 2005-01-09   \n",
       "18      497           799           4.258503           4.223125 2005-01-20   \n",
       "19      486           973           4.243001           4.210942 2005-06-27   \n",
       "\n",
       "    ReleaseYear                                         MovieTitle  \n",
       "0        2002.0  Lord of the Rings: The Two Towers: Extended Ed...  \n",
       "1        2003.0  Lord of the Rings: The Return of the King: Ext...  \n",
       "2        2001.0  The Lord of the Rings: The Fellowship of the R...  \n",
       "3        2003.0          Lord of the Rings: The Return of the King  \n",
       "4        2001.0                                   Band of Brothers  \n",
       "5        2001.0                             The Sopranos: Season 3  \n",
       "6        2004.0                             The Sopranos: Season 5  \n",
       "7        2001.0      Lord of the Rings: The Fellowship of the Ring  \n",
       "8        2002.0                             The Sopranos: Season 4  \n",
       "9        2001.0                                       24: Season 1  \n",
       "10       2003.0                           Six Feet Under: Season 3  \n",
       "11       2000.0                             The Sopranos: Season 2  \n",
       "12       2002.0                         Sex and the City: Season 5  \n",
       "13       2003.0                 Sex and the City: Season 6: Part 1  \n",
       "14       2002.0                                      CSI: Season 3  \n",
       "15       2001.0                           Six Feet Under: Season 2  \n",
       "16       2002.0                                       24: Season 2  \n",
       "17       2002.0                  Lord of the Rings: The Two Towers  \n",
       "18       2001.0                       Family Guy: Vol. 2: Season 3  \n",
       "19       2004.0                 Sex and the City: Season 6: Part 2  "
      ]
     },
     "execution_count": 71,
     "metadata": {},
     "output_type": "execute_result"
    }
   ],
   "source": [
    "# Applying corrected ranking function to get new list of recommended movies and merging original data frame to see full view of movies listed\n",
    "ranking_movies(svd_recommendations, rank_rating).merge(df.drop(['CustId', 'Rating'], axis = 1).drop_duplicates(['MovieId']), on = 'MovieId', how = 'left')"
   ]
  },
  {
   "cell_type": "markdown",
   "id": "54426da8-32e7-40e0-97d0-cedc006c75bf",
   "metadata": {},
   "source": [
    "We can see that after the correction, the order of the movies slightly changed."
   ]
  },
  {
   "cell_type": "markdown",
   "id": "d3d6a6fa-0e57-4450-88e4-d2d5626dcab2",
   "metadata": {},
   "source": [
    "## **Conclusion**:"
   ]
  },
  {
   "cell_type": "markdown",
   "id": "8c392e56-761c-407f-938b-4d5ee212ffd5",
   "metadata": {},
   "source": [
    "In this case study, we developed and evaluated recommendation systems using four different algorithms. They are as follows:\n",
    "  - Rank-based using averages\n",
    "  - User-user similarity-based collaborative filtering\n",
    "  - Item-item similarity-based collaborative filtering\n",
    "  - Model-based (matrix factorization) collaborative filtering\n",
    "\n",
    "Each algorithm is tailored to address specific challenges or optimize certain aspects of a recommendation system. Overall, we found that matrix factorization achieved the best performance in terms of F1 score (.309). However, the user-user similarity-based recommendation system yielded predictions closest to actual ratings, which may have been coincidental and can be investigated with further testing. It is important to note that collaborative filtering identifies nearest neighbors based on similarities in user preferences or movie attributes while matrix factorization reduces the dimensionality of both user and movie data, leveraging latent factors to capture hidden patterns and improve recommendations.\n",
    "\n",
    "When developing these algorithms, computational power emerged as the primary challenge. Limited computational resources prevented us from significantly increasing the dimensionality of model tuning, which likely contributed to the observed underfitting across all models. Tuning the models more extensively could have led to better performance. Additionally, the dataset used in our study was initially quite large, and we had to reduce its size, which might have introduced data bias and affected the accuracy of our models. Despite these challenges, we were able to build and implement initial recommendation systems that provide a solid foundation for further improvements.\n",
    "\n",
    "In conclusion, we recommend that Netflix implement the rank-based recommendation system for new users, as it provides immediate, relevant suggestions based on average ratings. Additionally, we suggest combining the different recommendation techniques explored in this case study to create a more complex hybrid model that leverages the strengths of each approach. To further enhance the performance of these models, we advise rigorous tuning and the use of stronger computational resources. Finally, we recommend developing separate recommendation systems for TV shows and movies, in addition to the hybrid model, to optimize the accuracy and relevance of recommendations across these distinct categories."
   ]
  }
 ],
 "metadata": {
  "kernelspec": {
   "display_name": "Python 3 (ipykernel)",
   "language": "python",
   "name": "python3"
  },
  "language_info": {
   "codemirror_mode": {
    "name": "ipython",
    "version": 3
   },
   "file_extension": ".py",
   "mimetype": "text/x-python",
   "name": "python",
   "nbconvert_exporter": "python",
   "pygments_lexer": "ipython3",
   "version": "3.11.0"
  }
 },
 "nbformat": 4,
 "nbformat_minor": 5
}
